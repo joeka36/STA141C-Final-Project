{
 "cells": [
  {
   "cell_type": "markdown",
   "metadata": {},
   "source": [
    "# STA141C Final Project: Crime in Chicago\n",
    "## A clustering analysis and visualization for crime in Chicago from 2005-2017\n",
    "### By: Joe Akanesuvan, Navid Al Nadvi, Sailesh Patnala\n",
    "\n",
    "This analysis will determine the the components that can be use to determine the crime type in Chicago. We hope that through a thorough analysis of the dataset, we will able to predict the the type of a crime, given a feature, accurately. By doing, so we wish that we will able to analyze the type of crime most common to a given area to, ultimately, lessen the impact of crime in Chicago."
   ]
  },
  {
   "cell_type": "code",
   "execution_count": 13,
   "metadata": {
    "collapsed": true
   },
   "outputs": [],
   "source": [
    "import numpy as np\n",
    "import pandas as pd\n",
    "import matplotlib.pyplot as plt\n",
    "import seaborn as sns\n",
    "import cufflinks as cf\n",
    "import plotly.plotly as py\n",
    "import plotly.graph_objs as go\n",
    "from sklearn import preprocessing\n",
    "from sklearn.neighbors import KNeighborsClassifier\n",
    "%matplotlib inline"
   ]
  },
  {
   "cell_type": "code",
   "execution_count": 14,
   "metadata": {
    "collapsed": true
   },
   "outputs": [],
   "source": [
    "from plotly.offline import download_plotlyjs,init_notebook_mode,plot,iplot"
   ]
  },
  {
   "cell_type": "code",
   "execution_count": 15,
   "metadata": {},
   "outputs": [
    {
     "data": {
      "text/html": [
       "<script>requirejs.config({paths: { 'plotly': ['https://cdn.plot.ly/plotly-latest.min']},});if(!window.Plotly) {{require(['plotly'],function(plotly) {window.Plotly=plotly;});}}</script>"
      ],
      "text/vnd.plotly.v1+html": [
       "<script>requirejs.config({paths: { 'plotly': ['https://cdn.plot.ly/plotly-latest.min']},});if(!window.Plotly) {{require(['plotly'],function(plotly) {window.Plotly=plotly;});}}</script>"
      ]
     },
     "metadata": {},
     "output_type": "display_data"
    }
   ],
   "source": [
    "init_notebook_mode(connected=True)"
   ]
  },
  {
   "cell_type": "code",
   "execution_count": 16,
   "metadata": {},
   "outputs": [
    {
     "name": "stderr",
     "output_type": "stream",
     "text": [
      "IOPub data rate exceeded.\n",
      "The notebook server will temporarily stop sending output\n",
      "to the client in order to avoid crashing it.\n",
      "To change this limit, set the config variable\n",
      "`--NotebookApp.iopub_data_rate_limit`.\n"
     ]
    }
   ],
   "source": [
    "cf.go_offline()\n",
    "cf.set_config_file(theme='ggplot')"
   ]
  },
  {
   "cell_type": "code",
   "execution_count": 17,
   "metadata": {},
   "outputs": [
    {
     "name": "stderr",
     "output_type": "stream",
     "text": [
      "b'Skipping line 533719: expected 23 fields, saw 24\\n'\n",
      "b'Skipping line 1149094: expected 23 fields, saw 41\\n'\n"
     ]
    }
   ],
   "source": [
    "crimes1 = pd.read_csv('Chicago_Crimes_2005_to_2007.csv',error_bad_lines=False)\n",
    "crimes2 = pd.read_csv('Chicago_Crimes_2008_to_2011.csv',error_bad_lines=False)\n",
    "crimes3 = pd.read_csv('Chicago_Crimes_2012_to_2017.csv',error_bad_lines=False)\n",
    "crimes = pd.concat([crimes1, crimes2, crimes3], ignore_index=False, axis=0)\n",
    "crimes.drop_duplicates(subset=['ID', 'Case Number'], inplace=True)"
   ]
  },
  {
   "cell_type": "markdown",
   "metadata": {},
   "source": [
    "## Understanding the Dataset"
   ]
  },
  {
   "cell_type": "code",
   "execution_count": 18,
   "metadata": {},
   "outputs": [
    {
     "data": {
      "text/html": [
       "<div>\n",
       "<style>\n",
       "    .dataframe thead tr:only-child th {\n",
       "        text-align: right;\n",
       "    }\n",
       "\n",
       "    .dataframe thead th {\n",
       "        text-align: left;\n",
       "    }\n",
       "\n",
       "    .dataframe tbody tr th {\n",
       "        vertical-align: top;\n",
       "    }\n",
       "</style>\n",
       "<table border=\"1\" class=\"dataframe\">\n",
       "  <thead>\n",
       "    <tr style=\"text-align: right;\">\n",
       "      <th></th>\n",
       "      <th>Unnamed: 0</th>\n",
       "      <th>ID</th>\n",
       "      <th>Case Number</th>\n",
       "      <th>Date</th>\n",
       "      <th>Block</th>\n",
       "      <th>IUCR</th>\n",
       "      <th>Primary Type</th>\n",
       "      <th>Description</th>\n",
       "      <th>Location Description</th>\n",
       "      <th>Arrest</th>\n",
       "      <th>...</th>\n",
       "      <th>Ward</th>\n",
       "      <th>Community Area</th>\n",
       "      <th>FBI Code</th>\n",
       "      <th>X Coordinate</th>\n",
       "      <th>Y Coordinate</th>\n",
       "      <th>Year</th>\n",
       "      <th>Updated On</th>\n",
       "      <th>Latitude</th>\n",
       "      <th>Longitude</th>\n",
       "      <th>Location</th>\n",
       "    </tr>\n",
       "  </thead>\n",
       "  <tbody>\n",
       "    <tr>\n",
       "      <th>0</th>\n",
       "      <td>0</td>\n",
       "      <td>4673626</td>\n",
       "      <td>HM274058</td>\n",
       "      <td>04/02/2006 01:00:00 PM</td>\n",
       "      <td>055XX N MANGO AVE</td>\n",
       "      <td>2825</td>\n",
       "      <td>OTHER OFFENSE</td>\n",
       "      <td>HARASSMENT BY TELEPHONE</td>\n",
       "      <td>RESIDENCE</td>\n",
       "      <td>False</td>\n",
       "      <td>...</td>\n",
       "      <td>45.0</td>\n",
       "      <td>11.0</td>\n",
       "      <td>26</td>\n",
       "      <td>1136872.0</td>\n",
       "      <td>1936499.0</td>\n",
       "      <td>2006</td>\n",
       "      <td>04/15/2016 08:55:02 AM</td>\n",
       "      <td>41.981913</td>\n",
       "      <td>-87.771996</td>\n",
       "      <td>(41.981912692, -87.771996382)</td>\n",
       "    </tr>\n",
       "    <tr>\n",
       "      <th>1</th>\n",
       "      <td>1</td>\n",
       "      <td>4673627</td>\n",
       "      <td>HM202199</td>\n",
       "      <td>02/26/2006 01:40:48 PM</td>\n",
       "      <td>065XX S RHODES AVE</td>\n",
       "      <td>2017</td>\n",
       "      <td>NARCOTICS</td>\n",
       "      <td>MANU/DELIVER:CRACK</td>\n",
       "      <td>SIDEWALK</td>\n",
       "      <td>True</td>\n",
       "      <td>...</td>\n",
       "      <td>20.0</td>\n",
       "      <td>42.0</td>\n",
       "      <td>18</td>\n",
       "      <td>1181027.0</td>\n",
       "      <td>1861693.0</td>\n",
       "      <td>2006</td>\n",
       "      <td>04/15/2016 08:55:02 AM</td>\n",
       "      <td>41.775733</td>\n",
       "      <td>-87.611920</td>\n",
       "      <td>(41.775732538, -87.611919814)</td>\n",
       "    </tr>\n",
       "    <tr>\n",
       "      <th>2</th>\n",
       "      <td>2</td>\n",
       "      <td>4673628</td>\n",
       "      <td>HM113861</td>\n",
       "      <td>01/08/2006 11:16:00 PM</td>\n",
       "      <td>013XX E 69TH ST</td>\n",
       "      <td>051A</td>\n",
       "      <td>ASSAULT</td>\n",
       "      <td>AGGRAVATED: HANDGUN</td>\n",
       "      <td>OTHER</td>\n",
       "      <td>False</td>\n",
       "      <td>...</td>\n",
       "      <td>5.0</td>\n",
       "      <td>69.0</td>\n",
       "      <td>04A</td>\n",
       "      <td>1186023.0</td>\n",
       "      <td>1859609.0</td>\n",
       "      <td>2006</td>\n",
       "      <td>04/15/2016 08:55:02 AM</td>\n",
       "      <td>41.769897</td>\n",
       "      <td>-87.593671</td>\n",
       "      <td>(41.769897392, -87.593670899)</td>\n",
       "    </tr>\n",
       "    <tr>\n",
       "      <th>3</th>\n",
       "      <td>4</td>\n",
       "      <td>4673629</td>\n",
       "      <td>HM274049</td>\n",
       "      <td>04/05/2006 06:45:00 PM</td>\n",
       "      <td>061XX W NEWPORT AVE</td>\n",
       "      <td>0460</td>\n",
       "      <td>BATTERY</td>\n",
       "      <td>SIMPLE</td>\n",
       "      <td>RESIDENCE</td>\n",
       "      <td>False</td>\n",
       "      <td>...</td>\n",
       "      <td>38.0</td>\n",
       "      <td>17.0</td>\n",
       "      <td>08B</td>\n",
       "      <td>1134772.0</td>\n",
       "      <td>1922299.0</td>\n",
       "      <td>2006</td>\n",
       "      <td>04/15/2016 08:55:02 AM</td>\n",
       "      <td>41.942984</td>\n",
       "      <td>-87.780057</td>\n",
       "      <td>(41.942984005, -87.780056951)</td>\n",
       "    </tr>\n",
       "    <tr>\n",
       "      <th>4</th>\n",
       "      <td>5</td>\n",
       "      <td>4673630</td>\n",
       "      <td>HM187120</td>\n",
       "      <td>02/17/2006 09:03:14 PM</td>\n",
       "      <td>037XX W 60TH ST</td>\n",
       "      <td>1811</td>\n",
       "      <td>NARCOTICS</td>\n",
       "      <td>POSS: CANNABIS 30GMS OR LESS</td>\n",
       "      <td>ALLEY</td>\n",
       "      <td>True</td>\n",
       "      <td>...</td>\n",
       "      <td>13.0</td>\n",
       "      <td>65.0</td>\n",
       "      <td>18</td>\n",
       "      <td>1152412.0</td>\n",
       "      <td>1864560.0</td>\n",
       "      <td>2006</td>\n",
       "      <td>04/15/2016 08:55:02 AM</td>\n",
       "      <td>41.784211</td>\n",
       "      <td>-87.716745</td>\n",
       "      <td>(41.784210853, -87.71674491)</td>\n",
       "    </tr>\n",
       "  </tbody>\n",
       "</table>\n",
       "<p>5 rows × 23 columns</p>\n",
       "</div>"
      ],
      "text/plain": [
       "   Unnamed: 0       ID Case Number                    Date  \\\n",
       "0           0  4673626    HM274058  04/02/2006 01:00:00 PM   \n",
       "1           1  4673627    HM202199  02/26/2006 01:40:48 PM   \n",
       "2           2  4673628    HM113861  01/08/2006 11:16:00 PM   \n",
       "3           4  4673629    HM274049  04/05/2006 06:45:00 PM   \n",
       "4           5  4673630    HM187120  02/17/2006 09:03:14 PM   \n",
       "\n",
       "                 Block  IUCR   Primary Type                   Description  \\\n",
       "0    055XX N MANGO AVE  2825  OTHER OFFENSE       HARASSMENT BY TELEPHONE   \n",
       "1   065XX S RHODES AVE  2017      NARCOTICS            MANU/DELIVER:CRACK   \n",
       "2      013XX E 69TH ST  051A        ASSAULT           AGGRAVATED: HANDGUN   \n",
       "3  061XX W NEWPORT AVE  0460        BATTERY                        SIMPLE   \n",
       "4      037XX W 60TH ST  1811      NARCOTICS  POSS: CANNABIS 30GMS OR LESS   \n",
       "\n",
       "  Location Description  Arrest              ...                Ward  \\\n",
       "0            RESIDENCE   False              ...                45.0   \n",
       "1             SIDEWALK    True              ...                20.0   \n",
       "2                OTHER   False              ...                 5.0   \n",
       "3            RESIDENCE   False              ...                38.0   \n",
       "4                ALLEY    True              ...                13.0   \n",
       "\n",
       "   Community Area  FBI Code  X Coordinate  Y Coordinate  Year  \\\n",
       "0            11.0        26     1136872.0     1936499.0  2006   \n",
       "1            42.0        18     1181027.0     1861693.0  2006   \n",
       "2            69.0       04A     1186023.0     1859609.0  2006   \n",
       "3            17.0       08B     1134772.0     1922299.0  2006   \n",
       "4            65.0        18     1152412.0     1864560.0  2006   \n",
       "\n",
       "               Updated On   Latitude  Longitude                       Location  \n",
       "0  04/15/2016 08:55:02 AM  41.981913 -87.771996  (41.981912692, -87.771996382)  \n",
       "1  04/15/2016 08:55:02 AM  41.775733 -87.611920  (41.775732538, -87.611919814)  \n",
       "2  04/15/2016 08:55:02 AM  41.769897 -87.593671  (41.769897392, -87.593670899)  \n",
       "3  04/15/2016 08:55:02 AM  41.942984 -87.780057  (41.942984005, -87.780056951)  \n",
       "4  04/15/2016 08:55:02 AM  41.784211 -87.716745   (41.784210853, -87.71674491)  \n",
       "\n",
       "[5 rows x 23 columns]"
      ]
     },
     "execution_count": 18,
     "metadata": {},
     "output_type": "execute_result"
    }
   ],
   "source": [
    "crimes.head()"
   ]
  },
  {
   "cell_type": "code",
   "execution_count": 19,
   "metadata": {},
   "outputs": [
    {
     "name": "stdout",
     "output_type": "stream",
     "text": [
      "<class 'pandas.core.frame.DataFrame'>\n",
      "Int64Index: 4336556 entries, 0 to 1456713\n",
      "Data columns (total 23 columns):\n",
      "Unnamed: 0              int64\n",
      "ID                      int64\n",
      "Case Number             object\n",
      "Date                    object\n",
      "Block                   object\n",
      "IUCR                    object\n",
      "Primary Type            object\n",
      "Description             object\n",
      "Location Description    object\n",
      "Arrest                  bool\n",
      "Domestic                bool\n",
      "Beat                    int64\n",
      "District                float64\n",
      "Ward                    float64\n",
      "Community Area          float64\n",
      "FBI Code                object\n",
      "X Coordinate            float64\n",
      "Y Coordinate            float64\n",
      "Year                    int64\n",
      "Updated On              object\n",
      "Latitude                float64\n",
      "Longitude               float64\n",
      "Location                object\n",
      "dtypes: bool(2), float64(7), int64(4), object(10)\n",
      "memory usage: 736.1+ MB\n"
     ]
    }
   ],
   "source": [
    "crimes.info()"
   ]
  },
  {
   "cell_type": "markdown",
   "metadata": {},
   "source": [
    "There are unnecessary columns which would not be able to use for any relevant visualization nor any clustering algorithm. Remove any columns which may be too specific."
   ]
  },
  {
   "cell_type": "code",
   "execution_count": 20,
   "metadata": {
    "collapsed": true
   },
   "outputs": [],
   "source": [
    "crimes.drop(['Unnamed: 0', 'Case Number', 'IUCR', 'X Coordinate', 'Y Coordinate',\n",
    "             'Updated On','FBI Code' ,'Ward', 'Location', 'District', 'Block', 'Year', 'Beat'], inplace=True, axis=1)"
   ]
  },
  {
   "cell_type": "markdown",
   "metadata": {},
   "source": [
    "Since there is Date column, the Date format should be changed to its corresponding Pandas format"
   ]
  },
  {
   "cell_type": "code",
   "execution_count": 21,
   "metadata": {
    "collapsed": true
   },
   "outputs": [],
   "source": [
    "crimes.Date = pd.to_datetime(crimes.Date, format='%m/%d/%Y %I:%M:%S %p')\n",
    "crimes.index = pd.DatetimeIndex(crimes.Date)\n"
   ]
  },
  {
   "cell_type": "code",
   "execution_count": 22,
   "metadata": {},
   "outputs": [
    {
     "data": {
      "text/html": [
       "<div>\n",
       "<style>\n",
       "    .dataframe thead tr:only-child th {\n",
       "        text-align: right;\n",
       "    }\n",
       "\n",
       "    .dataframe thead th {\n",
       "        text-align: left;\n",
       "    }\n",
       "\n",
       "    .dataframe tbody tr th {\n",
       "        vertical-align: top;\n",
       "    }\n",
       "</style>\n",
       "<table border=\"1\" class=\"dataframe\">\n",
       "  <thead>\n",
       "    <tr style=\"text-align: right;\">\n",
       "      <th></th>\n",
       "      <th>ID</th>\n",
       "      <th>Date</th>\n",
       "      <th>Primary Type</th>\n",
       "      <th>Description</th>\n",
       "      <th>Location Description</th>\n",
       "      <th>Arrest</th>\n",
       "      <th>Domestic</th>\n",
       "      <th>Community Area</th>\n",
       "      <th>Latitude</th>\n",
       "      <th>Longitude</th>\n",
       "    </tr>\n",
       "    <tr>\n",
       "      <th>Date</th>\n",
       "      <th></th>\n",
       "      <th></th>\n",
       "      <th></th>\n",
       "      <th></th>\n",
       "      <th></th>\n",
       "      <th></th>\n",
       "      <th></th>\n",
       "      <th></th>\n",
       "      <th></th>\n",
       "      <th></th>\n",
       "    </tr>\n",
       "  </thead>\n",
       "  <tbody>\n",
       "    <tr>\n",
       "      <th>2006-04-02 13:00:00</th>\n",
       "      <td>4673626</td>\n",
       "      <td>2006-04-02 13:00:00</td>\n",
       "      <td>OTHER OFFENSE</td>\n",
       "      <td>HARASSMENT BY TELEPHONE</td>\n",
       "      <td>RESIDENCE</td>\n",
       "      <td>False</td>\n",
       "      <td>False</td>\n",
       "      <td>11.0</td>\n",
       "      <td>41.981913</td>\n",
       "      <td>-87.771996</td>\n",
       "    </tr>\n",
       "    <tr>\n",
       "      <th>2006-02-26 13:40:48</th>\n",
       "      <td>4673627</td>\n",
       "      <td>2006-02-26 13:40:48</td>\n",
       "      <td>NARCOTICS</td>\n",
       "      <td>MANU/DELIVER:CRACK</td>\n",
       "      <td>SIDEWALK</td>\n",
       "      <td>True</td>\n",
       "      <td>False</td>\n",
       "      <td>42.0</td>\n",
       "      <td>41.775733</td>\n",
       "      <td>-87.611920</td>\n",
       "    </tr>\n",
       "    <tr>\n",
       "      <th>2006-01-08 23:16:00</th>\n",
       "      <td>4673628</td>\n",
       "      <td>2006-01-08 23:16:00</td>\n",
       "      <td>ASSAULT</td>\n",
       "      <td>AGGRAVATED: HANDGUN</td>\n",
       "      <td>OTHER</td>\n",
       "      <td>False</td>\n",
       "      <td>False</td>\n",
       "      <td>69.0</td>\n",
       "      <td>41.769897</td>\n",
       "      <td>-87.593671</td>\n",
       "    </tr>\n",
       "    <tr>\n",
       "      <th>2006-04-05 18:45:00</th>\n",
       "      <td>4673629</td>\n",
       "      <td>2006-04-05 18:45:00</td>\n",
       "      <td>BATTERY</td>\n",
       "      <td>SIMPLE</td>\n",
       "      <td>RESIDENCE</td>\n",
       "      <td>False</td>\n",
       "      <td>False</td>\n",
       "      <td>17.0</td>\n",
       "      <td>41.942984</td>\n",
       "      <td>-87.780057</td>\n",
       "    </tr>\n",
       "    <tr>\n",
       "      <th>2006-02-17 21:03:14</th>\n",
       "      <td>4673630</td>\n",
       "      <td>2006-02-17 21:03:14</td>\n",
       "      <td>NARCOTICS</td>\n",
       "      <td>POSS: CANNABIS 30GMS OR LESS</td>\n",
       "      <td>ALLEY</td>\n",
       "      <td>True</td>\n",
       "      <td>False</td>\n",
       "      <td>65.0</td>\n",
       "      <td>41.784211</td>\n",
       "      <td>-87.716745</td>\n",
       "    </tr>\n",
       "  </tbody>\n",
       "</table>\n",
       "</div>"
      ],
      "text/plain": [
       "                          ID                Date   Primary Type  \\\n",
       "Date                                                              \n",
       "2006-04-02 13:00:00  4673626 2006-04-02 13:00:00  OTHER OFFENSE   \n",
       "2006-02-26 13:40:48  4673627 2006-02-26 13:40:48      NARCOTICS   \n",
       "2006-01-08 23:16:00  4673628 2006-01-08 23:16:00        ASSAULT   \n",
       "2006-04-05 18:45:00  4673629 2006-04-05 18:45:00        BATTERY   \n",
       "2006-02-17 21:03:14  4673630 2006-02-17 21:03:14      NARCOTICS   \n",
       "\n",
       "                                      Description Location Description  \\\n",
       "Date                                                                     \n",
       "2006-04-02 13:00:00       HARASSMENT BY TELEPHONE            RESIDENCE   \n",
       "2006-02-26 13:40:48            MANU/DELIVER:CRACK             SIDEWALK   \n",
       "2006-01-08 23:16:00           AGGRAVATED: HANDGUN                OTHER   \n",
       "2006-04-05 18:45:00                        SIMPLE            RESIDENCE   \n",
       "2006-02-17 21:03:14  POSS: CANNABIS 30GMS OR LESS                ALLEY   \n",
       "\n",
       "                     Arrest  Domestic  Community Area   Latitude  Longitude  \n",
       "Date                                                                         \n",
       "2006-04-02 13:00:00   False     False            11.0  41.981913 -87.771996  \n",
       "2006-02-26 13:40:48    True     False            42.0  41.775733 -87.611920  \n",
       "2006-01-08 23:16:00   False     False            69.0  41.769897 -87.593671  \n",
       "2006-04-05 18:45:00   False     False            17.0  41.942984 -87.780057  \n",
       "2006-02-17 21:03:14    True     False            65.0  41.784211 -87.716745  "
      ]
     },
     "execution_count": 22,
     "metadata": {},
     "output_type": "execute_result"
    }
   ],
   "source": [
    "crimes.head()"
   ]
  },
  {
   "cell_type": "markdown",
   "metadata": {},
   "source": [
    "## Visualizing the Data"
   ]
  },
  {
   "cell_type": "code",
   "execution_count": 23,
   "metadata": {
    "collapsed": true
   },
   "outputs": [],
   "source": [
    "crime_years = pd.DataFrame(crimes.groupby([crimes.index.year]).size().reset_index(name=\"count\"))"
   ]
  },
  {
   "cell_type": "code",
   "execution_count": 24,
   "metadata": {
    "scrolled": false
   },
   "outputs": [
    {
     "data": {
      "text/html": [
       "<div>\n",
       "<style>\n",
       "    .dataframe thead tr:only-child th {\n",
       "        text-align: right;\n",
       "    }\n",
       "\n",
       "    .dataframe thead th {\n",
       "        text-align: left;\n",
       "    }\n",
       "\n",
       "    .dataframe tbody tr th {\n",
       "        vertical-align: top;\n",
       "    }\n",
       "</style>\n",
       "<table border=\"1\" class=\"dataframe\">\n",
       "  <thead>\n",
       "    <tr style=\"text-align: right;\">\n",
       "      <th></th>\n",
       "      <th>Date</th>\n",
       "      <th>count</th>\n",
       "    </tr>\n",
       "  </thead>\n",
       "  <tbody>\n",
       "    <tr>\n",
       "      <th>0</th>\n",
       "      <td>2005</td>\n",
       "      <td>453666</td>\n",
       "    </tr>\n",
       "    <tr>\n",
       "      <th>1</th>\n",
       "      <td>2006</td>\n",
       "      <td>448037</td>\n",
       "    </tr>\n",
       "    <tr>\n",
       "      <th>2</th>\n",
       "      <td>2007</td>\n",
       "      <td>436924</td>\n",
       "    </tr>\n",
       "    <tr>\n",
       "      <th>3</th>\n",
       "      <td>2008</td>\n",
       "      <td>426964</td>\n",
       "    </tr>\n",
       "    <tr>\n",
       "      <th>4</th>\n",
       "      <td>2009</td>\n",
       "      <td>392556</td>\n",
       "    </tr>\n",
       "    <tr>\n",
       "      <th>5</th>\n",
       "      <td>2010</td>\n",
       "      <td>370140</td>\n",
       "    </tr>\n",
       "    <tr>\n",
       "      <th>6</th>\n",
       "      <td>2011</td>\n",
       "      <td>351555</td>\n",
       "    </tr>\n",
       "    <tr>\n",
       "      <th>7</th>\n",
       "      <td>2012</td>\n",
       "      <td>335670</td>\n",
       "    </tr>\n",
       "    <tr>\n",
       "      <th>8</th>\n",
       "      <td>2013</td>\n",
       "      <td>306703</td>\n",
       "    </tr>\n",
       "    <tr>\n",
       "      <th>9</th>\n",
       "      <td>2014</td>\n",
       "      <td>274527</td>\n",
       "    </tr>\n",
       "    <tr>\n",
       "      <th>10</th>\n",
       "      <td>2015</td>\n",
       "      <td>262995</td>\n",
       "    </tr>\n",
       "    <tr>\n",
       "      <th>11</th>\n",
       "      <td>2016</td>\n",
       "      <td>265462</td>\n",
       "    </tr>\n",
       "    <tr>\n",
       "      <th>12</th>\n",
       "      <td>2017</td>\n",
       "      <td>11357</td>\n",
       "    </tr>\n",
       "  </tbody>\n",
       "</table>\n",
       "</div>"
      ],
      "text/plain": [
       "    Date   count\n",
       "0   2005  453666\n",
       "1   2006  448037\n",
       "2   2007  436924\n",
       "3   2008  426964\n",
       "4   2009  392556\n",
       "5   2010  370140\n",
       "6   2011  351555\n",
       "7   2012  335670\n",
       "8   2013  306703\n",
       "9   2014  274527\n",
       "10  2015  262995\n",
       "11  2016  265462\n",
       "12  2017   11357"
      ]
     },
     "execution_count": 24,
     "metadata": {},
     "output_type": "execute_result"
    }
   ],
   "source": [
    "crime_years"
   ]
  },
  {
   "cell_type": "code",
   "execution_count": 25,
   "metadata": {},
   "outputs": [
    {
     "name": "stderr",
     "output_type": "stream",
     "text": [
      "/usr/local/lib/python3.6/site-packages/cufflinks/plotlytools.py:156: FutureWarning:\n",
      "\n",
      "pandas.tslib is deprecated and will be removed in a future version.\n",
      "You can access Timestamp as pandas.Timestamp\n",
      "\n"
     ]
    },
    {
     "data": {
      "application/vnd.plotly.v1+json": {
       "data": [
        {
         "line": {
          "color": "rgba(226, 74, 51, 1.0)",
          "dash": "solid",
          "width": 1.3
         },
         "mode": "lines",
         "name": "count",
         "text": "",
         "type": "scatter",
         "x": [
          2005,
          2006,
          2007,
          2008,
          2009,
          2010,
          2011,
          2012,
          2013,
          2014,
          2015,
          2016,
          2017
         ],
         "y": [
          453666,
          448037,
          436924,
          426964,
          392556,
          370140,
          351555,
          335670,
          306703,
          274527,
          262995,
          265462,
          11357
         ]
        }
       ],
       "layout": {
        "legend": {
         "bgcolor": "#FFFFFF",
         "font": {
          "color": "#666666"
         }
        },
        "paper_bgcolor": "#FFFFFF",
        "plot_bgcolor": "#E5E5E5",
        "title": "Total of Crimes per Year",
        "titlefont": {
         "color": "#151516"
        },
        "xaxis1": {
         "gridcolor": "#F6F6F6",
         "showgrid": true,
         "tickfont": {
          "color": "#666666"
         },
         "title": "Year",
         "titlefont": {
          "color": "#666666"
         },
         "zerolinecolor": "#F6F6F6"
        },
        "yaxis1": {
         "gridcolor": "#F6F6F6",
         "showgrid": true,
         "tickfont": {
          "color": "#666666"
         },
         "title": "Total Crimes",
         "titlefont": {
          "color": "#666666"
         },
         "zerolinecolor": "#F6F6F6"
        }
       }
      },
      "text/html": [
       "<div id=\"3f0186bb-07d8-469d-8fd7-44de2f3bd64b\" style=\"height: 525px; width: 100%;\" class=\"plotly-graph-div\"></div><script type=\"text/javascript\">require([\"plotly\"], function(Plotly) { window.PLOTLYENV=window.PLOTLYENV || {};window.PLOTLYENV.BASE_URL=\"https://plot.ly\";Plotly.newPlot(\"3f0186bb-07d8-469d-8fd7-44de2f3bd64b\", [{\"type\": \"scatter\", \"x\": [2005, 2006, 2007, 2008, 2009, 2010, 2011, 2012, 2013, 2014, 2015, 2016, 2017], \"y\": [453666, 448037, 436924, 426964, 392556, 370140, 351555, 335670, 306703, 274527, 262995, 265462, 11357], \"name\": \"count\", \"text\": \"\", \"line\": {\"color\": \"rgba(226, 74, 51, 1.0)\", \"width\": 1.3, \"dash\": \"solid\"}, \"mode\": \"lines\"}], {\"legend\": {\"bgcolor\": \"#FFFFFF\", \"font\": {\"color\": \"#666666\"}}, \"paper_bgcolor\": \"#FFFFFF\", \"plot_bgcolor\": \"#E5E5E5\", \"yaxis1\": {\"tickfont\": {\"color\": \"#666666\"}, \"gridcolor\": \"#F6F6F6\", \"titlefont\": {\"color\": \"#666666\"}, \"zerolinecolor\": \"#F6F6F6\", \"showgrid\": true, \"title\": \"Total Crimes\"}, \"xaxis1\": {\"tickfont\": {\"color\": \"#666666\"}, \"gridcolor\": \"#F6F6F6\", \"titlefont\": {\"color\": \"#666666\"}, \"zerolinecolor\": \"#F6F6F6\", \"showgrid\": true, \"title\": \"Year\"}, \"titlefont\": {\"color\": \"#151516\"}, \"title\": \"Total of Crimes per Year\"}, {\"showLink\": true, \"linkText\": \"Export to plot.ly\"})});</script>"
      ],
      "text/vnd.plotly.v1+html": [
       "<div id=\"3f0186bb-07d8-469d-8fd7-44de2f3bd64b\" style=\"height: 525px; width: 100%;\" class=\"plotly-graph-div\"></div><script type=\"text/javascript\">require([\"plotly\"], function(Plotly) { window.PLOTLYENV=window.PLOTLYENV || {};window.PLOTLYENV.BASE_URL=\"https://plot.ly\";Plotly.newPlot(\"3f0186bb-07d8-469d-8fd7-44de2f3bd64b\", [{\"type\": \"scatter\", \"x\": [2005, 2006, 2007, 2008, 2009, 2010, 2011, 2012, 2013, 2014, 2015, 2016, 2017], \"y\": [453666, 448037, 436924, 426964, 392556, 370140, 351555, 335670, 306703, 274527, 262995, 265462, 11357], \"name\": \"count\", \"text\": \"\", \"line\": {\"color\": \"rgba(226, 74, 51, 1.0)\", \"width\": 1.3, \"dash\": \"solid\"}, \"mode\": \"lines\"}], {\"legend\": {\"bgcolor\": \"#FFFFFF\", \"font\": {\"color\": \"#666666\"}}, \"paper_bgcolor\": \"#FFFFFF\", \"plot_bgcolor\": \"#E5E5E5\", \"yaxis1\": {\"tickfont\": {\"color\": \"#666666\"}, \"gridcolor\": \"#F6F6F6\", \"titlefont\": {\"color\": \"#666666\"}, \"zerolinecolor\": \"#F6F6F6\", \"showgrid\": true, \"title\": \"Total Crimes\"}, \"xaxis1\": {\"tickfont\": {\"color\": \"#666666\"}, \"gridcolor\": \"#F6F6F6\", \"titlefont\": {\"color\": \"#666666\"}, \"zerolinecolor\": \"#F6F6F6\", \"showgrid\": true, \"title\": \"Year\"}, \"titlefont\": {\"color\": \"#151516\"}, \"title\": \"Total of Crimes per Year\"}, {\"showLink\": true, \"linkText\": \"Export to plot.ly\"})});</script>"
      ]
     },
     "metadata": {},
     "output_type": "display_data"
    }
   ],
   "source": [
    "crime_years.iplot(kind=\"line\", x='Date', y='count',\n",
    "                 xTitle='Year', yTitle='Total Crimes',title='Total of Crimes per Year')"
   ]
  },
  {
   "cell_type": "code",
   "execution_count": 26,
   "metadata": {
    "collapsed": true
   },
   "outputs": [],
   "source": [
    "crime_types_count = pd.DataFrame(crimes.groupby([\"Primary Type\"]).size().reset_index(name=\"count\"))\n",
    "crime_types_count.sort_values('count', ascending=True, inplace=True)"
   ]
  },
  {
   "cell_type": "code",
   "execution_count": 27,
   "metadata": {},
   "outputs": [
    {
     "data": {
      "text/html": [
       "<div>\n",
       "<style>\n",
       "    .dataframe thead tr:only-child th {\n",
       "        text-align: right;\n",
       "    }\n",
       "\n",
       "    .dataframe thead th {\n",
       "        text-align: left;\n",
       "    }\n",
       "\n",
       "    .dataframe tbody tr th {\n",
       "        vertical-align: top;\n",
       "    }\n",
       "</style>\n",
       "<table border=\"1\" class=\"dataframe\">\n",
       "  <thead>\n",
       "    <tr style=\"text-align: right;\">\n",
       "      <th></th>\n",
       "      <th>Primary Type</th>\n",
       "      <th>count</th>\n",
       "    </tr>\n",
       "  </thead>\n",
       "  <tbody>\n",
       "    <tr>\n",
       "      <th>24</th>\n",
       "      <td>OTHER OFFENSE</td>\n",
       "      <td>264200</td>\n",
       "    </tr>\n",
       "    <tr>\n",
       "      <th>17</th>\n",
       "      <td>NARCOTICS</td>\n",
       "      <td>473790</td>\n",
       "    </tr>\n",
       "    <tr>\n",
       "      <th>6</th>\n",
       "      <td>CRIMINAL DAMAGE</td>\n",
       "      <td>499426</td>\n",
       "    </tr>\n",
       "    <tr>\n",
       "      <th>2</th>\n",
       "      <td>BATTERY</td>\n",
       "      <td>778164</td>\n",
       "    </tr>\n",
       "    <tr>\n",
       "      <th>32</th>\n",
       "      <td>THEFT</td>\n",
       "      <td>907831</td>\n",
       "    </tr>\n",
       "  </tbody>\n",
       "</table>\n",
       "</div>"
      ],
      "text/plain": [
       "       Primary Type   count\n",
       "24    OTHER OFFENSE  264200\n",
       "17        NARCOTICS  473790\n",
       "6   CRIMINAL DAMAGE  499426\n",
       "2           BATTERY  778164\n",
       "32            THEFT  907831"
      ]
     },
     "execution_count": 27,
     "metadata": {},
     "output_type": "execute_result"
    }
   ],
   "source": [
    "crime_types_count.tail()"
   ]
  },
  {
   "cell_type": "code",
   "execution_count": 28,
   "metadata": {},
   "outputs": [
    {
     "data": {
      "application/vnd.plotly.v1+json": {
       "data": [
        {
         "orientation": "h",
         "type": "bar",
         "x": [
          4,
          10,
          28,
          38,
          90,
          90,
          95,
          109,
          341,
          2146,
          2311,
          3388,
          5875,
          6632,
          8276,
          9920,
          11242,
          14672,
          17073,
          29857,
          35028,
          40868,
          44333,
          122992,
          165715,
          170231,
          196804,
          260868,
          264109,
          264200,
          473790,
          499426,
          778164,
          907831
         ],
         "y": [
          "NON-CRIMINAL (SUBJECT SPECIFIED)",
          "RITUALISM",
          "HUMAN TRAFFICKING",
          "NON - CRIMINAL",
          "CONCEALED CARRY LICENSE VIOLATION",
          "OTHER NARCOTIC VIOLATION",
          "NON-CRIMINAL",
          "PUBLIC INDECENCY",
          "OBSCENITY",
          "STALKING",
          "INTIMIDATION",
          "KIDNAPPING",
          "HOMICIDE",
          "ARSON",
          "LIQUOR LAW VIOLATION",
          "GAMBLING",
          "INTERFERENCE WITH PUBLIC OFFICER",
          "SEX OFFENSE",
          "CRIM SEXUAL ASSAULT",
          "OFFENSE INVOLVING CHILDREN",
          "PUBLIC PEACE VIOLATION",
          "PROSTITUTION",
          "WEAPONS VIOLATION",
          "CRIMINAL TRESPASS",
          "ROBBERY",
          "DECEPTIVE PRACTICE",
          "MOTOR VEHICLE THEFT",
          "ASSAULT",
          "BURGLARY",
          "OTHER OFFENSE",
          "NARCOTICS",
          "CRIMINAL DAMAGE",
          "BATTERY",
          "THEFT"
         ]
        }
       ],
       "layout": {
        "margin": {
         "b": 100,
         "l": 200,
         "pad": 4,
         "r": 50,
         "t": 100
        },
        "title": "Total Crime Types",
        "xaxis": {
         "title": "Count"
        },
        "yaxis": {
         "tickfont": {
          "color": "black",
          "size": 8
         },
         "title": "Crime Types"
        }
       }
      },
      "text/html": [
       "<div id=\"1eff5b3a-b29b-421a-823a-97f375885233\" style=\"height: 525px; width: 100%;\" class=\"plotly-graph-div\"></div><script type=\"text/javascript\">require([\"plotly\"], function(Plotly) { window.PLOTLYENV=window.PLOTLYENV || {};window.PLOTLYENV.BASE_URL=\"https://plot.ly\";Plotly.newPlot(\"1eff5b3a-b29b-421a-823a-97f375885233\", [{\"type\": \"bar\", \"x\": [4, 10, 28, 38, 90, 90, 95, 109, 341, 2146, 2311, 3388, 5875, 6632, 8276, 9920, 11242, 14672, 17073, 29857, 35028, 40868, 44333, 122992, 165715, 170231, 196804, 260868, 264109, 264200, 473790, 499426, 778164, 907831], \"y\": [\"NON-CRIMINAL (SUBJECT SPECIFIED)\", \"RITUALISM\", \"HUMAN TRAFFICKING\", \"NON - CRIMINAL\", \"CONCEALED CARRY LICENSE VIOLATION\", \"OTHER NARCOTIC VIOLATION\", \"NON-CRIMINAL\", \"PUBLIC INDECENCY\", \"OBSCENITY\", \"STALKING\", \"INTIMIDATION\", \"KIDNAPPING\", \"HOMICIDE\", \"ARSON\", \"LIQUOR LAW VIOLATION\", \"GAMBLING\", \"INTERFERENCE WITH PUBLIC OFFICER\", \"SEX OFFENSE\", \"CRIM SEXUAL ASSAULT\", \"OFFENSE INVOLVING CHILDREN\", \"PUBLIC PEACE VIOLATION\", \"PROSTITUTION\", \"WEAPONS VIOLATION\", \"CRIMINAL TRESPASS\", \"ROBBERY\", \"DECEPTIVE PRACTICE\", \"MOTOR VEHICLE THEFT\", \"ASSAULT\", \"BURGLARY\", \"OTHER OFFENSE\", \"NARCOTICS\", \"CRIMINAL DAMAGE\", \"BATTERY\", \"THEFT\"], \"orientation\": \"h\"}], {\"title\": \"Total Crime Types\", \"yaxis\": {\"title\": \"Crime Types\", \"tickfont\": {\"size\": 8, \"color\": \"black\"}}, \"xaxis\": {\"title\": \"Count\"}, \"margin\": {\"l\": 200, \"r\": 50, \"b\": 100, \"t\": 100, \"pad\": 4}}, {\"showLink\": true, \"linkText\": \"Export to plot.ly\"})});</script>"
      ],
      "text/vnd.plotly.v1+html": [
       "<div id=\"1eff5b3a-b29b-421a-823a-97f375885233\" style=\"height: 525px; width: 100%;\" class=\"plotly-graph-div\"></div><script type=\"text/javascript\">require([\"plotly\"], function(Plotly) { window.PLOTLYENV=window.PLOTLYENV || {};window.PLOTLYENV.BASE_URL=\"https://plot.ly\";Plotly.newPlot(\"1eff5b3a-b29b-421a-823a-97f375885233\", [{\"type\": \"bar\", \"x\": [4, 10, 28, 38, 90, 90, 95, 109, 341, 2146, 2311, 3388, 5875, 6632, 8276, 9920, 11242, 14672, 17073, 29857, 35028, 40868, 44333, 122992, 165715, 170231, 196804, 260868, 264109, 264200, 473790, 499426, 778164, 907831], \"y\": [\"NON-CRIMINAL (SUBJECT SPECIFIED)\", \"RITUALISM\", \"HUMAN TRAFFICKING\", \"NON - CRIMINAL\", \"CONCEALED CARRY LICENSE VIOLATION\", \"OTHER NARCOTIC VIOLATION\", \"NON-CRIMINAL\", \"PUBLIC INDECENCY\", \"OBSCENITY\", \"STALKING\", \"INTIMIDATION\", \"KIDNAPPING\", \"HOMICIDE\", \"ARSON\", \"LIQUOR LAW VIOLATION\", \"GAMBLING\", \"INTERFERENCE WITH PUBLIC OFFICER\", \"SEX OFFENSE\", \"CRIM SEXUAL ASSAULT\", \"OFFENSE INVOLVING CHILDREN\", \"PUBLIC PEACE VIOLATION\", \"PROSTITUTION\", \"WEAPONS VIOLATION\", \"CRIMINAL TRESPASS\", \"ROBBERY\", \"DECEPTIVE PRACTICE\", \"MOTOR VEHICLE THEFT\", \"ASSAULT\", \"BURGLARY\", \"OTHER OFFENSE\", \"NARCOTICS\", \"CRIMINAL DAMAGE\", \"BATTERY\", \"THEFT\"], \"orientation\": \"h\"}], {\"title\": \"Total Crime Types\", \"yaxis\": {\"title\": \"Crime Types\", \"tickfont\": {\"size\": 8, \"color\": \"black\"}}, \"xaxis\": {\"title\": \"Count\"}, \"margin\": {\"l\": 200, \"r\": 50, \"b\": 100, \"t\": 100, \"pad\": 4}}, {\"showLink\": true, \"linkText\": \"Export to plot.ly\"})});</script>"
      ]
     },
     "metadata": {},
     "output_type": "display_data"
    }
   ],
   "source": [
    "data = [\n",
    "    go.Bar(\n",
    "        x=crime_types_count['count'],\n",
    "        y=crime_types_count['Primary Type'],\n",
    "        orientation='h',\n",
    "    )\n",
    "]\n",
    "\n",
    "layout = go.Layout(\n",
    "    title='Total Crime Types',\n",
    "    yaxis=dict(\n",
    "        title='Crime Types',\n",
    "        tickfont=dict(\n",
    "        size=8,\n",
    "        color='black',\n",
    "        ),\n",
    "    ),\n",
    "    xaxis=dict(\n",
    "        title='Count',\n",
    "    ),\n",
    "    margin=go.Margin(\n",
    "        l=200,\n",
    "        r=50,\n",
    "        b=100,\n",
    "        t=100,\n",
    "        pad=4\n",
    "    ),\n",
    ")\n",
    "\n",
    "fig = go.Figure(data=data, layout=layout)\n",
    "iplot(fig, filename='total-crime-types')"
   ]
  },
  {
   "cell_type": "code",
   "execution_count": 29,
   "metadata": {},
   "outputs": [
    {
     "data": {
      "text/plain": [
       "(161, 2)"
      ]
     },
     "execution_count": 29,
     "metadata": {},
     "output_type": "execute_result"
    }
   ],
   "source": [
    "crime_location_count = pd.DataFrame(crimes.groupby([\"Location Description\"]).size().reset_index(name=\"count\"))\n",
    "crime_location_count.sort_values('count', ascending=True, inplace=True)\n",
    "crime_location_count.shape"
   ]
  },
  {
   "cell_type": "code",
   "execution_count": 30,
   "metadata": {},
   "outputs": [
    {
     "data": {
      "text/html": [
       "<div>\n",
       "<style>\n",
       "    .dataframe thead tr:only-child th {\n",
       "        text-align: right;\n",
       "    }\n",
       "\n",
       "    .dataframe thead th {\n",
       "        text-align: left;\n",
       "    }\n",
       "\n",
       "    .dataframe tbody tr th {\n",
       "        vertical-align: top;\n",
       "    }\n",
       "</style>\n",
       "<table border=\"1\" class=\"dataframe\">\n",
       "  <thead>\n",
       "    <tr style=\"text-align: right;\">\n",
       "      <th></th>\n",
       "      <th>Location Description</th>\n",
       "      <th>count</th>\n",
       "    </tr>\n",
       "  </thead>\n",
       "  <tbody>\n",
       "    <tr>\n",
       "      <th>110</th>\n",
       "      <td>OTHER</td>\n",
       "      <td>158276</td>\n",
       "    </tr>\n",
       "    <tr>\n",
       "      <th>139</th>\n",
       "      <td>SIDEWALK</td>\n",
       "      <td>482153</td>\n",
       "    </tr>\n",
       "    <tr>\n",
       "      <th>17</th>\n",
       "      <td>APARTMENT</td>\n",
       "      <td>489249</td>\n",
       "    </tr>\n",
       "    <tr>\n",
       "      <th>123</th>\n",
       "      <td>RESIDENCE</td>\n",
       "      <td>713880</td>\n",
       "    </tr>\n",
       "    <tr>\n",
       "      <th>143</th>\n",
       "      <td>STREET</td>\n",
       "      <td>1079497</td>\n",
       "    </tr>\n",
       "  </tbody>\n",
       "</table>\n",
       "</div>"
      ],
      "text/plain": [
       "    Location Description    count\n",
       "110                OTHER   158276\n",
       "139             SIDEWALK   482153\n",
       "17             APARTMENT   489249\n",
       "123            RESIDENCE   713880\n",
       "143               STREET  1079497"
      ]
     },
     "execution_count": 30,
     "metadata": {},
     "output_type": "execute_result"
    }
   ],
   "source": [
    "crime_location_count.tail()"
   ]
  },
  {
   "cell_type": "code",
   "execution_count": 31,
   "metadata": {},
   "outputs": [
    {
     "data": {
      "text/html": [
       "<div>\n",
       "<style>\n",
       "    .dataframe thead tr:only-child th {\n",
       "        text-align: right;\n",
       "    }\n",
       "\n",
       "    .dataframe thead th {\n",
       "        text-align: left;\n",
       "    }\n",
       "\n",
       "    .dataframe tbody tr th {\n",
       "        vertical-align: top;\n",
       "    }\n",
       "</style>\n",
       "<table border=\"1\" class=\"dataframe\">\n",
       "  <thead>\n",
       "    <tr style=\"text-align: right;\">\n",
       "      <th></th>\n",
       "      <th>Location Description</th>\n",
       "      <th>count</th>\n",
       "    </tr>\n",
       "  </thead>\n",
       "  <tbody>\n",
       "    <tr>\n",
       "      <th>160</th>\n",
       "      <td>YMCA</td>\n",
       "      <td>1</td>\n",
       "    </tr>\n",
       "    <tr>\n",
       "      <th>44</th>\n",
       "      <td>CLEANERS/LAUNDROMAT</td>\n",
       "      <td>1</td>\n",
       "    </tr>\n",
       "    <tr>\n",
       "      <th>56</th>\n",
       "      <td>CTA \"L\" TRAIN</td>\n",
       "      <td>1</td>\n",
       "    </tr>\n",
       "    <tr>\n",
       "      <th>42</th>\n",
       "      <td>CHURCH PROPERTY</td>\n",
       "      <td>1</td>\n",
       "    </tr>\n",
       "    <tr>\n",
       "      <th>40</th>\n",
       "      <td>CHA PLAY LOT</td>\n",
       "      <td>1</td>\n",
       "    </tr>\n",
       "  </tbody>\n",
       "</table>\n",
       "</div>"
      ],
      "text/plain": [
       "    Location Description  count\n",
       "160                 YMCA      1\n",
       "44   CLEANERS/LAUNDROMAT      1\n",
       "56         CTA \"L\" TRAIN      1\n",
       "42       CHURCH PROPERTY      1\n",
       "40          CHA PLAY LOT      1"
      ]
     },
     "execution_count": 31,
     "metadata": {},
     "output_type": "execute_result"
    }
   ],
   "source": [
    "crime_location_count.head()"
   ]
  },
  {
   "cell_type": "markdown",
   "metadata": {},
   "source": [
    "Since there are many features with low counts, we will only take the features with a high number of occurences into account."
   ]
  },
  {
   "cell_type": "code",
   "execution_count": 32,
   "metadata": {
    "collapsed": true
   },
   "outputs": [],
   "source": [
    "crime_location_count.drop(crime_location_count.index[0:136], inplace=True)"
   ]
  },
  {
   "cell_type": "code",
   "execution_count": 33,
   "metadata": {},
   "outputs": [
    {
     "data": {
      "application/vnd.plotly.v1+json": {
       "data": [
        {
         "orientation": "h",
         "type": "bar",
         "x": [
          17587,
          17673,
          19500,
          23802,
          24423,
          24764,
          27559,
          34246,
          45811,
          50268,
          53294,
          56592,
          65771,
          74730,
          75930,
          78010,
          84887,
          90837,
          97847,
          120707,
          158276,
          482153,
          489249,
          713880,
          1079497
         ],
         "y": [
          "BANK",
          "DRUG STORE",
          "SCHOOL, PUBLIC, GROUNDS",
          "CTA PLATFORM",
          "CHA PARKING LOT/GROUNDS",
          "BAR OR TAVERN",
          "COMMERCIAL / BUSINESS OFFICE",
          "PARK PROPERTY",
          "GAS STATION",
          "GROCERY FOOD STORE",
          "DEPARTMENT STORE",
          "RESIDENTIAL YARD (FRONT/BACK)",
          "RESTAURANT",
          "RESIDENCE PORCH/HALLWAY",
          "SMALL RETAIL STORE",
          "VEHICLE NON-COMMERCIAL",
          "RESIDENCE-GARAGE",
          "SCHOOL, PUBLIC, BUILDING",
          "ALLEY",
          "PARKING LOT/GARAGE(NON.RESID.)",
          "OTHER",
          "SIDEWALK",
          "APARTMENT",
          "RESIDENCE",
          "STREET"
         ]
        }
       ],
       "layout": {
        "margin": {
         "b": 100,
         "l": 200,
         "pad": 4,
         "r": 50,
         "t": 100
        },
        "title": "Total Crimes by Location",
        "xaxis": {
         "title": "Count"
        },
        "yaxis": {
         "tickfont": {
          "color": "black",
          "size": 8
         },
         "title": "Location Description"
        }
       }
      },
      "text/html": [
       "<div id=\"e32db290-0716-40b8-b0df-adab8e1a3b76\" style=\"height: 525px; width: 100%;\" class=\"plotly-graph-div\"></div><script type=\"text/javascript\">require([\"plotly\"], function(Plotly) { window.PLOTLYENV=window.PLOTLYENV || {};window.PLOTLYENV.BASE_URL=\"https://plot.ly\";Plotly.newPlot(\"e32db290-0716-40b8-b0df-adab8e1a3b76\", [{\"type\": \"bar\", \"x\": [17587, 17673, 19500, 23802, 24423, 24764, 27559, 34246, 45811, 50268, 53294, 56592, 65771, 74730, 75930, 78010, 84887, 90837, 97847, 120707, 158276, 482153, 489249, 713880, 1079497], \"y\": [\"BANK\", \"DRUG STORE\", \"SCHOOL, PUBLIC, GROUNDS\", \"CTA PLATFORM\", \"CHA PARKING LOT/GROUNDS\", \"BAR OR TAVERN\", \"COMMERCIAL / BUSINESS OFFICE\", \"PARK PROPERTY\", \"GAS STATION\", \"GROCERY FOOD STORE\", \"DEPARTMENT STORE\", \"RESIDENTIAL YARD (FRONT/BACK)\", \"RESTAURANT\", \"RESIDENCE PORCH/HALLWAY\", \"SMALL RETAIL STORE\", \"VEHICLE NON-COMMERCIAL\", \"RESIDENCE-GARAGE\", \"SCHOOL, PUBLIC, BUILDING\", \"ALLEY\", \"PARKING LOT/GARAGE(NON.RESID.)\", \"OTHER\", \"SIDEWALK\", \"APARTMENT\", \"RESIDENCE\", \"STREET\"], \"orientation\": \"h\"}], {\"title\": \"Total Crimes by Location\", \"yaxis\": {\"title\": \"Location Description\", \"tickfont\": {\"size\": 8, \"color\": \"black\"}}, \"xaxis\": {\"title\": \"Count\"}, \"margin\": {\"l\": 200, \"r\": 50, \"b\": 100, \"t\": 100, \"pad\": 4}}, {\"showLink\": true, \"linkText\": \"Export to plot.ly\"})});</script>"
      ],
      "text/vnd.plotly.v1+html": [
       "<div id=\"e32db290-0716-40b8-b0df-adab8e1a3b76\" style=\"height: 525px; width: 100%;\" class=\"plotly-graph-div\"></div><script type=\"text/javascript\">require([\"plotly\"], function(Plotly) { window.PLOTLYENV=window.PLOTLYENV || {};window.PLOTLYENV.BASE_URL=\"https://plot.ly\";Plotly.newPlot(\"e32db290-0716-40b8-b0df-adab8e1a3b76\", [{\"type\": \"bar\", \"x\": [17587, 17673, 19500, 23802, 24423, 24764, 27559, 34246, 45811, 50268, 53294, 56592, 65771, 74730, 75930, 78010, 84887, 90837, 97847, 120707, 158276, 482153, 489249, 713880, 1079497], \"y\": [\"BANK\", \"DRUG STORE\", \"SCHOOL, PUBLIC, GROUNDS\", \"CTA PLATFORM\", \"CHA PARKING LOT/GROUNDS\", \"BAR OR TAVERN\", \"COMMERCIAL / BUSINESS OFFICE\", \"PARK PROPERTY\", \"GAS STATION\", \"GROCERY FOOD STORE\", \"DEPARTMENT STORE\", \"RESIDENTIAL YARD (FRONT/BACK)\", \"RESTAURANT\", \"RESIDENCE PORCH/HALLWAY\", \"SMALL RETAIL STORE\", \"VEHICLE NON-COMMERCIAL\", \"RESIDENCE-GARAGE\", \"SCHOOL, PUBLIC, BUILDING\", \"ALLEY\", \"PARKING LOT/GARAGE(NON.RESID.)\", \"OTHER\", \"SIDEWALK\", \"APARTMENT\", \"RESIDENCE\", \"STREET\"], \"orientation\": \"h\"}], {\"title\": \"Total Crimes by Location\", \"yaxis\": {\"title\": \"Location Description\", \"tickfont\": {\"size\": 8, \"color\": \"black\"}}, \"xaxis\": {\"title\": \"Count\"}, \"margin\": {\"l\": 200, \"r\": 50, \"b\": 100, \"t\": 100, \"pad\": 4}}, {\"showLink\": true, \"linkText\": \"Export to plot.ly\"})});</script>"
      ]
     },
     "metadata": {},
     "output_type": "display_data"
    }
   ],
   "source": [
    "data = [\n",
    "    go.Bar(\n",
    "        x=crime_location_count['count'],\n",
    "        y=crime_location_count['Location Description'],\n",
    "        orientation='h',\n",
    "    )\n",
    "]\n",
    "\n",
    "layout = go.Layout(\n",
    "    title='Total Crimes by Location',\n",
    "    yaxis=dict(\n",
    "        title='Location Description',\n",
    "        tickfont=dict(\n",
    "        size=8,\n",
    "        color='black',\n",
    "        ),\n",
    "    ),\n",
    "    xaxis=dict(\n",
    "        title='Count',\n",
    "    ),\n",
    "    margin=go.Margin(\n",
    "        l=200,\n",
    "        r=50,\n",
    "        b=100,\n",
    "        t=100,\n",
    "        pad=4\n",
    "    ),\n",
    ")\n",
    "\n",
    "fig = go.Figure(data=data, layout=layout)\n",
    "iplot(fig, filename='total-crime-location')"
   ]
  },
  {
   "cell_type": "markdown",
   "metadata": {
    "collapsed": true
   },
   "source": [
    "Since we have decided that only the 25 top location description will be taken into account during the analysis, we will need to update the crimes dataset to reflect the change."
   ]
  },
  {
   "cell_type": "code",
   "execution_count": 34,
   "metadata": {},
   "outputs": [
    {
     "data": {
      "text/html": [
       "<div>\n",
       "<style>\n",
       "    .dataframe thead tr:only-child th {\n",
       "        text-align: right;\n",
       "    }\n",
       "\n",
       "    .dataframe thead th {\n",
       "        text-align: left;\n",
       "    }\n",
       "\n",
       "    .dataframe tbody tr th {\n",
       "        vertical-align: top;\n",
       "    }\n",
       "</style>\n",
       "<table border=\"1\" class=\"dataframe\">\n",
       "  <thead>\n",
       "    <tr style=\"text-align: right;\">\n",
       "      <th></th>\n",
       "      <th>Date</th>\n",
       "      <th>count</th>\n",
       "      <th>index</th>\n",
       "    </tr>\n",
       "  </thead>\n",
       "  <tbody>\n",
       "    <tr>\n",
       "      <th>0</th>\n",
       "      <td>0</td>\n",
       "      <td>609221</td>\n",
       "      <td>Mon</td>\n",
       "    </tr>\n",
       "    <tr>\n",
       "      <th>1</th>\n",
       "      <td>1</td>\n",
       "      <td>621967</td>\n",
       "      <td>Tue</td>\n",
       "    </tr>\n",
       "    <tr>\n",
       "      <th>2</th>\n",
       "      <td>2</td>\n",
       "      <td>626060</td>\n",
       "      <td>Wed</td>\n",
       "    </tr>\n",
       "    <tr>\n",
       "      <th>3</th>\n",
       "      <td>3</td>\n",
       "      <td>618657</td>\n",
       "      <td>Thurs</td>\n",
       "    </tr>\n",
       "    <tr>\n",
       "      <th>4</th>\n",
       "      <td>4</td>\n",
       "      <td>654870</td>\n",
       "      <td>Fri</td>\n",
       "    </tr>\n",
       "    <tr>\n",
       "      <th>5</th>\n",
       "      <td>5</td>\n",
       "      <td>619533</td>\n",
       "      <td>Sat</td>\n",
       "    </tr>\n",
       "    <tr>\n",
       "      <th>6</th>\n",
       "      <td>6</td>\n",
       "      <td>586248</td>\n",
       "      <td>Sun</td>\n",
       "    </tr>\n",
       "  </tbody>\n",
       "</table>\n",
       "</div>"
      ],
      "text/plain": [
       "   Date   count  index\n",
       "0     0  609221    Mon\n",
       "1     1  621967    Tue\n",
       "2     2  626060    Wed\n",
       "3     3  618657  Thurs\n",
       "4     4  654870    Fri\n",
       "5     5  619533    Sat\n",
       "6     6  586248    Sun"
      ]
     },
     "execution_count": 34,
     "metadata": {},
     "output_type": "execute_result"
    }
   ],
   "source": [
    "crime_day_count = pd.DataFrame(crimes.groupby([crimes.index.dayofweek]).size().reset_index(name=\"count\"))\n",
    "days = [\"Mon\", \"Tue\", \"Wed\", \"Thurs\", \"Fri\", \"Sat\", \"Sun\"]\n",
    "crime_day_count['index'] = days\n",
    "crime_day_count"
   ]
  },
  {
   "cell_type": "code",
   "execution_count": 35,
   "metadata": {},
   "outputs": [
    {
     "data": {
      "application/vnd.plotly.v1+json": {
       "data": [
        {
         "marker": {
          "color": "rgba(226, 74, 51, 0.6)",
          "line": {
           "color": "rgba(226, 74, 51, 1.0)",
           "width": 1
          }
         },
         "name": "count",
         "orientation": "v",
         "text": "",
         "type": "bar",
         "x": [
          "Mon",
          "Tue",
          "Wed",
          "Thurs",
          "Fri",
          "Sat",
          "Sun"
         ],
         "y": [
          609221,
          621967,
          626060,
          618657,
          654870,
          619533,
          586248
         ]
        }
       ],
       "layout": {
        "legend": {
         "bgcolor": "#FFFFFF",
         "font": {
          "color": "#666666"
         }
        },
        "paper_bgcolor": "#FFFFFF",
        "plot_bgcolor": "#E5E5E5",
        "title": "Total of Crimes per Day",
        "titlefont": {
         "color": "#151516"
        },
        "xaxis1": {
         "gridcolor": "#F6F6F6",
         "showgrid": true,
         "tickfont": {
          "color": "#666666"
         },
         "title": "Day of the Week",
         "titlefont": {
          "color": "#666666"
         },
         "zerolinecolor": "#F6F6F6"
        },
        "yaxis1": {
         "gridcolor": "#F6F6F6",
         "showgrid": true,
         "tickfont": {
          "color": "#666666"
         },
         "title": "Total Crimes",
         "titlefont": {
          "color": "#666666"
         },
         "zerolinecolor": "#F6F6F6"
        }
       }
      },
      "text/html": [
       "<div id=\"2c0f5537-5f12-4311-9809-65b24ee52c65\" style=\"height: 525px; width: 100%;\" class=\"plotly-graph-div\"></div><script type=\"text/javascript\">require([\"plotly\"], function(Plotly) { window.PLOTLYENV=window.PLOTLYENV || {};window.PLOTLYENV.BASE_URL=\"https://plot.ly\";Plotly.newPlot(\"2c0f5537-5f12-4311-9809-65b24ee52c65\", [{\"type\": \"bar\", \"x\": [\"Mon\", \"Tue\", \"Wed\", \"Thurs\", \"Fri\", \"Sat\", \"Sun\"], \"y\": [609221, 621967, 626060, 618657, 654870, 619533, 586248], \"name\": \"count\", \"text\": \"\", \"marker\": {\"color\": \"rgba(226, 74, 51, 0.6)\", \"line\": {\"color\": \"rgba(226, 74, 51, 1.0)\", \"width\": 1}}, \"orientation\": \"v\"}], {\"legend\": {\"bgcolor\": \"#FFFFFF\", \"font\": {\"color\": \"#666666\"}}, \"paper_bgcolor\": \"#FFFFFF\", \"plot_bgcolor\": \"#E5E5E5\", \"yaxis1\": {\"tickfont\": {\"color\": \"#666666\"}, \"gridcolor\": \"#F6F6F6\", \"titlefont\": {\"color\": \"#666666\"}, \"zerolinecolor\": \"#F6F6F6\", \"showgrid\": true, \"title\": \"Total Crimes\"}, \"xaxis1\": {\"tickfont\": {\"color\": \"#666666\"}, \"gridcolor\": \"#F6F6F6\", \"titlefont\": {\"color\": \"#666666\"}, \"zerolinecolor\": \"#F6F6F6\", \"showgrid\": true, \"title\": \"Day of the Week\"}, \"titlefont\": {\"color\": \"#151516\"}, \"title\": \"Total of Crimes per Day\"}, {\"showLink\": true, \"linkText\": \"Export to plot.ly\"})});</script>"
      ],
      "text/vnd.plotly.v1+html": [
       "<div id=\"2c0f5537-5f12-4311-9809-65b24ee52c65\" style=\"height: 525px; width: 100%;\" class=\"plotly-graph-div\"></div><script type=\"text/javascript\">require([\"plotly\"], function(Plotly) { window.PLOTLYENV=window.PLOTLYENV || {};window.PLOTLYENV.BASE_URL=\"https://plot.ly\";Plotly.newPlot(\"2c0f5537-5f12-4311-9809-65b24ee52c65\", [{\"type\": \"bar\", \"x\": [\"Mon\", \"Tue\", \"Wed\", \"Thurs\", \"Fri\", \"Sat\", \"Sun\"], \"y\": [609221, 621967, 626060, 618657, 654870, 619533, 586248], \"name\": \"count\", \"text\": \"\", \"marker\": {\"color\": \"rgba(226, 74, 51, 0.6)\", \"line\": {\"color\": \"rgba(226, 74, 51, 1.0)\", \"width\": 1}}, \"orientation\": \"v\"}], {\"legend\": {\"bgcolor\": \"#FFFFFF\", \"font\": {\"color\": \"#666666\"}}, \"paper_bgcolor\": \"#FFFFFF\", \"plot_bgcolor\": \"#E5E5E5\", \"yaxis1\": {\"tickfont\": {\"color\": \"#666666\"}, \"gridcolor\": \"#F6F6F6\", \"titlefont\": {\"color\": \"#666666\"}, \"zerolinecolor\": \"#F6F6F6\", \"showgrid\": true, \"title\": \"Total Crimes\"}, \"xaxis1\": {\"tickfont\": {\"color\": \"#666666\"}, \"gridcolor\": \"#F6F6F6\", \"titlefont\": {\"color\": \"#666666\"}, \"zerolinecolor\": \"#F6F6F6\", \"showgrid\": true, \"title\": \"Day of the Week\"}, \"titlefont\": {\"color\": \"#151516\"}, \"title\": \"Total of Crimes per Day\"}, {\"showLink\": true, \"linkText\": \"Export to plot.ly\"})});</script>"
      ]
     },
     "metadata": {},
     "output_type": "display_data"
    }
   ],
   "source": [
    "crime_day_count.iplot(kind=\"bar\", x='index', y='count',\n",
    "                 xTitle='Day of the Week', yTitle='Total Crimes',title='Total of Crimes per Day')"
   ]
  },
  {
   "cell_type": "code",
   "execution_count": 36,
   "metadata": {
    "scrolled": true
   },
   "outputs": [
    {
     "data": {
      "text/html": [
       "<div>\n",
       "<style>\n",
       "    .dataframe thead tr:only-child th {\n",
       "        text-align: right;\n",
       "    }\n",
       "\n",
       "    .dataframe thead th {\n",
       "        text-align: left;\n",
       "    }\n",
       "\n",
       "    .dataframe tbody tr th {\n",
       "        vertical-align: top;\n",
       "    }\n",
       "</style>\n",
       "<table border=\"1\" class=\"dataframe\">\n",
       "  <thead>\n",
       "    <tr style=\"text-align: right;\">\n",
       "      <th></th>\n",
       "      <th>Date</th>\n",
       "      <th>count</th>\n",
       "      <th>index</th>\n",
       "    </tr>\n",
       "  </thead>\n",
       "  <tbody>\n",
       "    <tr>\n",
       "      <th>0</th>\n",
       "      <td>1</td>\n",
       "      <td>348282</td>\n",
       "      <td>Jan</td>\n",
       "    </tr>\n",
       "    <tr>\n",
       "      <th>1</th>\n",
       "      <td>2</td>\n",
       "      <td>292889</td>\n",
       "      <td>Feb</td>\n",
       "    </tr>\n",
       "    <tr>\n",
       "      <th>2</th>\n",
       "      <td>3</td>\n",
       "      <td>357875</td>\n",
       "      <td>Mar</td>\n",
       "    </tr>\n",
       "    <tr>\n",
       "      <th>3</th>\n",
       "      <td>4</td>\n",
       "      <td>357918</td>\n",
       "      <td>Apr</td>\n",
       "    </tr>\n",
       "    <tr>\n",
       "      <th>4</th>\n",
       "      <td>5</td>\n",
       "      <td>388137</td>\n",
       "      <td>May</td>\n",
       "    </tr>\n",
       "    <tr>\n",
       "      <th>5</th>\n",
       "      <td>6</td>\n",
       "      <td>385351</td>\n",
       "      <td>Jun</td>\n",
       "    </tr>\n",
       "    <tr>\n",
       "      <th>6</th>\n",
       "      <td>7</td>\n",
       "      <td>402970</td>\n",
       "      <td>Jul</td>\n",
       "    </tr>\n",
       "    <tr>\n",
       "      <th>7</th>\n",
       "      <td>8</td>\n",
       "      <td>398654</td>\n",
       "      <td>Aug</td>\n",
       "    </tr>\n",
       "    <tr>\n",
       "      <th>8</th>\n",
       "      <td>9</td>\n",
       "      <td>372780</td>\n",
       "      <td>Sep</td>\n",
       "    </tr>\n",
       "    <tr>\n",
       "      <th>9</th>\n",
       "      <td>10</td>\n",
       "      <td>375799</td>\n",
       "      <td>Oct</td>\n",
       "    </tr>\n",
       "    <tr>\n",
       "      <th>10</th>\n",
       "      <td>11</td>\n",
       "      <td>339211</td>\n",
       "      <td>Nov</td>\n",
       "    </tr>\n",
       "    <tr>\n",
       "      <th>11</th>\n",
       "      <td>12</td>\n",
       "      <td>316690</td>\n",
       "      <td>Dec</td>\n",
       "    </tr>\n",
       "  </tbody>\n",
       "</table>\n",
       "</div>"
      ],
      "text/plain": [
       "    Date   count index\n",
       "0      1  348282   Jan\n",
       "1      2  292889   Feb\n",
       "2      3  357875   Mar\n",
       "3      4  357918   Apr\n",
       "4      5  388137   May\n",
       "5      6  385351   Jun\n",
       "6      7  402970   Jul\n",
       "7      8  398654   Aug\n",
       "8      9  372780   Sep\n",
       "9     10  375799   Oct\n",
       "10    11  339211   Nov\n",
       "11    12  316690   Dec"
      ]
     },
     "execution_count": 36,
     "metadata": {},
     "output_type": "execute_result"
    }
   ],
   "source": [
    "crime_month_count = pd.DataFrame(crimes.groupby([crimes.index.month]).size().reset_index(name=\"count\"))\n",
    "months = [\"Jan\", \"Feb\", \"Mar\", \"Apr\", \"May\", \"Jun\", \"Jul\", \"Aug\", \"Sep\", \"Oct\", \"Nov\", \"Dec\"]\n",
    "crime_month_count['index'] = months\n",
    "crime_month_count"
   ]
  },
  {
   "cell_type": "code",
   "execution_count": 37,
   "metadata": {},
   "outputs": [
    {
     "data": {
      "application/vnd.plotly.v1+json": {
       "data": [
        {
         "marker": {
          "color": "rgba(226, 74, 51, 0.6)",
          "line": {
           "color": "rgba(226, 74, 51, 1.0)",
           "width": 1
          }
         },
         "name": "count",
         "orientation": "v",
         "text": "",
         "type": "bar",
         "x": [
          "Jan",
          "Feb",
          "Mar",
          "Apr",
          "May",
          "Jun",
          "Jul",
          "Aug",
          "Sep",
          "Oct",
          "Nov",
          "Dec"
         ],
         "y": [
          348282,
          292889,
          357875,
          357918,
          388137,
          385351,
          402970,
          398654,
          372780,
          375799,
          339211,
          316690
         ]
        }
       ],
       "layout": {
        "legend": {
         "bgcolor": "#FFFFFF",
         "font": {
          "color": "#666666"
         }
        },
        "paper_bgcolor": "#FFFFFF",
        "plot_bgcolor": "#E5E5E5",
        "title": "Total of Crimes per Month",
        "titlefont": {
         "color": "#151516"
        },
        "xaxis1": {
         "gridcolor": "#F6F6F6",
         "showgrid": true,
         "tickfont": {
          "color": "#666666"
         },
         "title": "Month",
         "titlefont": {
          "color": "#666666"
         },
         "zerolinecolor": "#F6F6F6"
        },
        "yaxis1": {
         "gridcolor": "#F6F6F6",
         "showgrid": true,
         "tickfont": {
          "color": "#666666"
         },
         "title": "Total Crimes",
         "titlefont": {
          "color": "#666666"
         },
         "zerolinecolor": "#F6F6F6"
        }
       }
      },
      "text/html": [
       "<div id=\"5c9c0257-cb66-4713-8e7e-c82809cbaf2b\" style=\"height: 525px; width: 100%;\" class=\"plotly-graph-div\"></div><script type=\"text/javascript\">require([\"plotly\"], function(Plotly) { window.PLOTLYENV=window.PLOTLYENV || {};window.PLOTLYENV.BASE_URL=\"https://plot.ly\";Plotly.newPlot(\"5c9c0257-cb66-4713-8e7e-c82809cbaf2b\", [{\"type\": \"bar\", \"x\": [\"Jan\", \"Feb\", \"Mar\", \"Apr\", \"May\", \"Jun\", \"Jul\", \"Aug\", \"Sep\", \"Oct\", \"Nov\", \"Dec\"], \"y\": [348282, 292889, 357875, 357918, 388137, 385351, 402970, 398654, 372780, 375799, 339211, 316690], \"name\": \"count\", \"text\": \"\", \"marker\": {\"color\": \"rgba(226, 74, 51, 0.6)\", \"line\": {\"color\": \"rgba(226, 74, 51, 1.0)\", \"width\": 1}}, \"orientation\": \"v\"}], {\"legend\": {\"bgcolor\": \"#FFFFFF\", \"font\": {\"color\": \"#666666\"}}, \"paper_bgcolor\": \"#FFFFFF\", \"plot_bgcolor\": \"#E5E5E5\", \"yaxis1\": {\"tickfont\": {\"color\": \"#666666\"}, \"gridcolor\": \"#F6F6F6\", \"titlefont\": {\"color\": \"#666666\"}, \"zerolinecolor\": \"#F6F6F6\", \"showgrid\": true, \"title\": \"Total Crimes\"}, \"xaxis1\": {\"tickfont\": {\"color\": \"#666666\"}, \"gridcolor\": \"#F6F6F6\", \"titlefont\": {\"color\": \"#666666\"}, \"zerolinecolor\": \"#F6F6F6\", \"showgrid\": true, \"title\": \"Month\"}, \"titlefont\": {\"color\": \"#151516\"}, \"title\": \"Total of Crimes per Month\"}, {\"showLink\": true, \"linkText\": \"Export to plot.ly\"})});</script>"
      ],
      "text/vnd.plotly.v1+html": [
       "<div id=\"5c9c0257-cb66-4713-8e7e-c82809cbaf2b\" style=\"height: 525px; width: 100%;\" class=\"plotly-graph-div\"></div><script type=\"text/javascript\">require([\"plotly\"], function(Plotly) { window.PLOTLYENV=window.PLOTLYENV || {};window.PLOTLYENV.BASE_URL=\"https://plot.ly\";Plotly.newPlot(\"5c9c0257-cb66-4713-8e7e-c82809cbaf2b\", [{\"type\": \"bar\", \"x\": [\"Jan\", \"Feb\", \"Mar\", \"Apr\", \"May\", \"Jun\", \"Jul\", \"Aug\", \"Sep\", \"Oct\", \"Nov\", \"Dec\"], \"y\": [348282, 292889, 357875, 357918, 388137, 385351, 402970, 398654, 372780, 375799, 339211, 316690], \"name\": \"count\", \"text\": \"\", \"marker\": {\"color\": \"rgba(226, 74, 51, 0.6)\", \"line\": {\"color\": \"rgba(226, 74, 51, 1.0)\", \"width\": 1}}, \"orientation\": \"v\"}], {\"legend\": {\"bgcolor\": \"#FFFFFF\", \"font\": {\"color\": \"#666666\"}}, \"paper_bgcolor\": \"#FFFFFF\", \"plot_bgcolor\": \"#E5E5E5\", \"yaxis1\": {\"tickfont\": {\"color\": \"#666666\"}, \"gridcolor\": \"#F6F6F6\", \"titlefont\": {\"color\": \"#666666\"}, \"zerolinecolor\": \"#F6F6F6\", \"showgrid\": true, \"title\": \"Total Crimes\"}, \"xaxis1\": {\"tickfont\": {\"color\": \"#666666\"}, \"gridcolor\": \"#F6F6F6\", \"titlefont\": {\"color\": \"#666666\"}, \"zerolinecolor\": \"#F6F6F6\", \"showgrid\": true, \"title\": \"Month\"}, \"titlefont\": {\"color\": \"#151516\"}, \"title\": \"Total of Crimes per Month\"}, {\"showLink\": true, \"linkText\": \"Export to plot.ly\"})});</script>"
      ]
     },
     "metadata": {},
     "output_type": "display_data"
    }
   ],
   "source": [
    "crime_month_count.iplot(kind=\"bar\", x='index', y='count',\n",
    "                 xTitle='Month', yTitle='Total Crimes',title='Total of Crimes per Month')"
   ]
  },
  {
   "cell_type": "code",
   "execution_count": 38,
   "metadata": {
    "scrolled": true
   },
   "outputs": [
    {
     "data": {
      "text/html": [
       "<div>\n",
       "<style>\n",
       "    .dataframe thead tr:only-child th {\n",
       "        text-align: right;\n",
       "    }\n",
       "\n",
       "    .dataframe thead th {\n",
       "        text-align: left;\n",
       "    }\n",
       "\n",
       "    .dataframe tbody tr th {\n",
       "        vertical-align: top;\n",
       "    }\n",
       "</style>\n",
       "<table border=\"1\" class=\"dataframe\">\n",
       "  <thead>\n",
       "    <tr style=\"text-align: right;\">\n",
       "      <th>Primary Type</th>\n",
       "      <th>Date</th>\n",
       "      <th>ARSON</th>\n",
       "      <th>ASSAULT</th>\n",
       "      <th>BATTERY</th>\n",
       "      <th>BURGLARY</th>\n",
       "      <th>CONCEALED CARRY LICENSE VIOLATION</th>\n",
       "      <th>CRIM SEXUAL ASSAULT</th>\n",
       "      <th>CRIMINAL DAMAGE</th>\n",
       "      <th>CRIMINAL TRESPASS</th>\n",
       "      <th>DECEPTIVE PRACTICE</th>\n",
       "      <th>...</th>\n",
       "      <th>OTHER OFFENSE</th>\n",
       "      <th>PROSTITUTION</th>\n",
       "      <th>PUBLIC INDECENCY</th>\n",
       "      <th>PUBLIC PEACE VIOLATION</th>\n",
       "      <th>RITUALISM</th>\n",
       "      <th>ROBBERY</th>\n",
       "      <th>SEX OFFENSE</th>\n",
       "      <th>STALKING</th>\n",
       "      <th>THEFT</th>\n",
       "      <th>WEAPONS VIOLATION</th>\n",
       "    </tr>\n",
       "  </thead>\n",
       "  <tbody>\n",
       "    <tr>\n",
       "      <th>0</th>\n",
       "      <td>2005-01-01 00:00:00</td>\n",
       "      <td>0.0</td>\n",
       "      <td>1.0</td>\n",
       "      <td>5.0</td>\n",
       "      <td>3.0</td>\n",
       "      <td>0.0</td>\n",
       "      <td>8.0</td>\n",
       "      <td>7.0</td>\n",
       "      <td>0.0</td>\n",
       "      <td>11.0</td>\n",
       "      <td>...</td>\n",
       "      <td>15.0</td>\n",
       "      <td>0.0</td>\n",
       "      <td>0.0</td>\n",
       "      <td>0.0</td>\n",
       "      <td>0.0</td>\n",
       "      <td>0.0</td>\n",
       "      <td>16.0</td>\n",
       "      <td>0.0</td>\n",
       "      <td>71.0</td>\n",
       "      <td>3.0</td>\n",
       "    </tr>\n",
       "    <tr>\n",
       "      <th>1</th>\n",
       "      <td>2005-01-01 00:01:00</td>\n",
       "      <td>0.0</td>\n",
       "      <td>1.0</td>\n",
       "      <td>3.0</td>\n",
       "      <td>2.0</td>\n",
       "      <td>0.0</td>\n",
       "      <td>13.0</td>\n",
       "      <td>8.0</td>\n",
       "      <td>0.0</td>\n",
       "      <td>14.0</td>\n",
       "      <td>...</td>\n",
       "      <td>6.0</td>\n",
       "      <td>0.0</td>\n",
       "      <td>0.0</td>\n",
       "      <td>0.0</td>\n",
       "      <td>0.0</td>\n",
       "      <td>0.0</td>\n",
       "      <td>11.0</td>\n",
       "      <td>1.0</td>\n",
       "      <td>84.0</td>\n",
       "      <td>1.0</td>\n",
       "    </tr>\n",
       "    <tr>\n",
       "      <th>2</th>\n",
       "      <td>2005-01-01 00:01:42</td>\n",
       "      <td>0.0</td>\n",
       "      <td>0.0</td>\n",
       "      <td>0.0</td>\n",
       "      <td>0.0</td>\n",
       "      <td>0.0</td>\n",
       "      <td>0.0</td>\n",
       "      <td>0.0</td>\n",
       "      <td>0.0</td>\n",
       "      <td>0.0</td>\n",
       "      <td>...</td>\n",
       "      <td>0.0</td>\n",
       "      <td>0.0</td>\n",
       "      <td>0.0</td>\n",
       "      <td>0.0</td>\n",
       "      <td>0.0</td>\n",
       "      <td>0.0</td>\n",
       "      <td>0.0</td>\n",
       "      <td>0.0</td>\n",
       "      <td>0.0</td>\n",
       "      <td>1.0</td>\n",
       "    </tr>\n",
       "    <tr>\n",
       "      <th>3</th>\n",
       "      <td>2005-01-01 00:02:00</td>\n",
       "      <td>0.0</td>\n",
       "      <td>0.0</td>\n",
       "      <td>0.0</td>\n",
       "      <td>0.0</td>\n",
       "      <td>0.0</td>\n",
       "      <td>0.0</td>\n",
       "      <td>0.0</td>\n",
       "      <td>0.0</td>\n",
       "      <td>0.0</td>\n",
       "      <td>...</td>\n",
       "      <td>0.0</td>\n",
       "      <td>0.0</td>\n",
       "      <td>0.0</td>\n",
       "      <td>0.0</td>\n",
       "      <td>0.0</td>\n",
       "      <td>0.0</td>\n",
       "      <td>0.0</td>\n",
       "      <td>0.0</td>\n",
       "      <td>0.0</td>\n",
       "      <td>1.0</td>\n",
       "    </tr>\n",
       "    <tr>\n",
       "      <th>4</th>\n",
       "      <td>2005-01-01 00:03:00</td>\n",
       "      <td>0.0</td>\n",
       "      <td>0.0</td>\n",
       "      <td>0.0</td>\n",
       "      <td>0.0</td>\n",
       "      <td>0.0</td>\n",
       "      <td>0.0</td>\n",
       "      <td>0.0</td>\n",
       "      <td>0.0</td>\n",
       "      <td>0.0</td>\n",
       "      <td>...</td>\n",
       "      <td>0.0</td>\n",
       "      <td>0.0</td>\n",
       "      <td>0.0</td>\n",
       "      <td>0.0</td>\n",
       "      <td>0.0</td>\n",
       "      <td>0.0</td>\n",
       "      <td>0.0</td>\n",
       "      <td>0.0</td>\n",
       "      <td>0.0</td>\n",
       "      <td>2.0</td>\n",
       "    </tr>\n",
       "  </tbody>\n",
       "</table>\n",
       "<p>5 rows × 35 columns</p>\n",
       "</div>"
      ],
      "text/plain": [
       "Primary Type                Date  ARSON  ASSAULT  BATTERY  BURGLARY  \\\n",
       "0            2005-01-01 00:00:00    0.0      1.0      5.0       3.0   \n",
       "1            2005-01-01 00:01:00    0.0      1.0      3.0       2.0   \n",
       "2            2005-01-01 00:01:42    0.0      0.0      0.0       0.0   \n",
       "3            2005-01-01 00:02:00    0.0      0.0      0.0       0.0   \n",
       "4            2005-01-01 00:03:00    0.0      0.0      0.0       0.0   \n",
       "\n",
       "Primary Type  CONCEALED CARRY LICENSE VIOLATION  CRIM SEXUAL ASSAULT  \\\n",
       "0                                           0.0                  8.0   \n",
       "1                                           0.0                 13.0   \n",
       "2                                           0.0                  0.0   \n",
       "3                                           0.0                  0.0   \n",
       "4                                           0.0                  0.0   \n",
       "\n",
       "Primary Type  CRIMINAL DAMAGE  CRIMINAL TRESPASS  DECEPTIVE PRACTICE  \\\n",
       "0                         7.0                0.0                11.0   \n",
       "1                         8.0                0.0                14.0   \n",
       "2                         0.0                0.0                 0.0   \n",
       "3                         0.0                0.0                 0.0   \n",
       "4                         0.0                0.0                 0.0   \n",
       "\n",
       "Primary Type        ...          OTHER OFFENSE  PROSTITUTION  \\\n",
       "0                   ...                   15.0           0.0   \n",
       "1                   ...                    6.0           0.0   \n",
       "2                   ...                    0.0           0.0   \n",
       "3                   ...                    0.0           0.0   \n",
       "4                   ...                    0.0           0.0   \n",
       "\n",
       "Primary Type  PUBLIC INDECENCY  PUBLIC PEACE VIOLATION  RITUALISM  ROBBERY  \\\n",
       "0                          0.0                     0.0        0.0      0.0   \n",
       "1                          0.0                     0.0        0.0      0.0   \n",
       "2                          0.0                     0.0        0.0      0.0   \n",
       "3                          0.0                     0.0        0.0      0.0   \n",
       "4                          0.0                     0.0        0.0      0.0   \n",
       "\n",
       "Primary Type  SEX OFFENSE  STALKING  THEFT  WEAPONS VIOLATION  \n",
       "0                    16.0       0.0   71.0                3.0  \n",
       "1                    11.0       1.0   84.0                1.0  \n",
       "2                     0.0       0.0    0.0                1.0  \n",
       "3                     0.0       0.0    0.0                1.0  \n",
       "4                     0.0       0.0    0.0                2.0  \n",
       "\n",
       "[5 rows x 35 columns]"
      ]
     },
     "execution_count": 38,
     "metadata": {},
     "output_type": "execute_result"
    }
   ],
   "source": [
    "crime_count = pd.DataFrame(crimes.groupby([\"Primary Type\", crimes.index]).size().reset_index(name=\"count\"))\n",
    "crime_count.sort_values('Primary Type', ascending=True, inplace=True)\n",
    "crime_count.reset_index(drop=True, inplace=True)\n",
    "type_count = crime_count.pivot_table(index='Date' ,columns='Primary Type', values='count').reset_index()\n",
    "type_count.fillna(0,inplace=True)\n",
    "type_count.head()"
   ]
  },
  {
   "cell_type": "markdown",
   "metadata": {
    "collapsed": true
   },
   "source": [
    "### Preprocessing: We will encode the label so they can be normalized\n"
   ]
  },
  {
   "cell_type": "code",
   "execution_count": 43,
   "metadata": {
    "collapsed": true
   },
   "outputs": [],
   "source": [
    "le = preprocessing.LabelEncoder()\n",
    "le.fit(crimes['Primary Type'].unique())\n",
    "crimes['Primary Type'] = le.transform(crimes['Primary Type'])\n",
    "locationEncoder = preprocessing.LabelEncoder()\n",
    "locationEncoder.fit(crimes['Location Description'].fillna('0'))\n",
    "crimes['Location Description'] = locationEncoder.transform(crimes['Location Description'].fillna('0'))"
   ]
  },
  {
   "cell_type": "code",
   "execution_count": 54,
   "metadata": {
    "collapsed": true
   },
   "outputs": [],
   "source": [
    "crimes['Arrest'] = crimes.Arrest.fillna() astype(int)\n",
    "crimes['Domestic'] = crimes.Domestic.astype(int)\n",
    "crimes['Month'] = crimes.index.month\n",
    "crimes['Day'] = crimes.index.day\n",
    "crimes['Hour'] = crimes.index.hour\n",
    "crimes.reset_index(drop=True, inplace=True)"
   ]
  },
  {
   "cell_type": "code",
   "execution_count": 56,
   "metadata": {
    "scrolled": true
   },
   "outputs": [
    {
     "data": {
      "text/html": [
       "<div>\n",
       "<style>\n",
       "    .dataframe thead tr:only-child th {\n",
       "        text-align: right;\n",
       "    }\n",
       "\n",
       "    .dataframe thead th {\n",
       "        text-align: left;\n",
       "    }\n",
       "\n",
       "    .dataframe tbody tr th {\n",
       "        vertical-align: top;\n",
       "    }\n",
       "</style>\n",
       "<table border=\"1\" class=\"dataframe\">\n",
       "  <thead>\n",
       "    <tr style=\"text-align: right;\">\n",
       "      <th></th>\n",
       "      <th>ID</th>\n",
       "      <th>Date</th>\n",
       "      <th>Primary Type</th>\n",
       "      <th>Description</th>\n",
       "      <th>Location Description</th>\n",
       "      <th>Arrest</th>\n",
       "      <th>Domestic</th>\n",
       "      <th>Community Area</th>\n",
       "      <th>Latitude</th>\n",
       "      <th>Longitude</th>\n",
       "      <th>Month</th>\n",
       "      <th>Day</th>\n",
       "      <th>Hour</th>\n",
       "    </tr>\n",
       "  </thead>\n",
       "  <tbody>\n",
       "    <tr>\n",
       "      <th>0</th>\n",
       "      <td>4673626</td>\n",
       "      <td>2006-04-02 13:00:00</td>\n",
       "      <td>24</td>\n",
       "      <td>HARASSMENT BY TELEPHONE</td>\n",
       "      <td>124</td>\n",
       "      <td>0</td>\n",
       "      <td>0</td>\n",
       "      <td>11.0</td>\n",
       "      <td>41.981913</td>\n",
       "      <td>-87.771996</td>\n",
       "      <td>4</td>\n",
       "      <td>2</td>\n",
       "      <td>13</td>\n",
       "    </tr>\n",
       "    <tr>\n",
       "      <th>1</th>\n",
       "      <td>4673627</td>\n",
       "      <td>2006-02-26 13:40:48</td>\n",
       "      <td>17</td>\n",
       "      <td>MANU/DELIVER:CRACK</td>\n",
       "      <td>140</td>\n",
       "      <td>1</td>\n",
       "      <td>0</td>\n",
       "      <td>42.0</td>\n",
       "      <td>41.775733</td>\n",
       "      <td>-87.611920</td>\n",
       "      <td>2</td>\n",
       "      <td>26</td>\n",
       "      <td>13</td>\n",
       "    </tr>\n",
       "    <tr>\n",
       "      <th>2</th>\n",
       "      <td>4673628</td>\n",
       "      <td>2006-01-08 23:16:00</td>\n",
       "      <td>1</td>\n",
       "      <td>AGGRAVATED: HANDGUN</td>\n",
       "      <td>111</td>\n",
       "      <td>0</td>\n",
       "      <td>0</td>\n",
       "      <td>69.0</td>\n",
       "      <td>41.769897</td>\n",
       "      <td>-87.593671</td>\n",
       "      <td>1</td>\n",
       "      <td>8</td>\n",
       "      <td>23</td>\n",
       "    </tr>\n",
       "    <tr>\n",
       "      <th>3</th>\n",
       "      <td>4673629</td>\n",
       "      <td>2006-04-05 18:45:00</td>\n",
       "      <td>2</td>\n",
       "      <td>SIMPLE</td>\n",
       "      <td>124</td>\n",
       "      <td>0</td>\n",
       "      <td>0</td>\n",
       "      <td>17.0</td>\n",
       "      <td>41.942984</td>\n",
       "      <td>-87.780057</td>\n",
       "      <td>4</td>\n",
       "      <td>5</td>\n",
       "      <td>18</td>\n",
       "    </tr>\n",
       "    <tr>\n",
       "      <th>4</th>\n",
       "      <td>4673630</td>\n",
       "      <td>2006-02-17 21:03:14</td>\n",
       "      <td>17</td>\n",
       "      <td>POSS: CANNABIS 30GMS OR LESS</td>\n",
       "      <td>16</td>\n",
       "      <td>1</td>\n",
       "      <td>0</td>\n",
       "      <td>65.0</td>\n",
       "      <td>41.784211</td>\n",
       "      <td>-87.716745</td>\n",
       "      <td>2</td>\n",
       "      <td>17</td>\n",
       "      <td>21</td>\n",
       "    </tr>\n",
       "  </tbody>\n",
       "</table>\n",
       "</div>"
      ],
      "text/plain": [
       "        ID                Date  Primary Type                   Description  \\\n",
       "0  4673626 2006-04-02 13:00:00            24       HARASSMENT BY TELEPHONE   \n",
       "1  4673627 2006-02-26 13:40:48            17            MANU/DELIVER:CRACK   \n",
       "2  4673628 2006-01-08 23:16:00             1           AGGRAVATED: HANDGUN   \n",
       "3  4673629 2006-04-05 18:45:00             2                        SIMPLE   \n",
       "4  4673630 2006-02-17 21:03:14            17  POSS: CANNABIS 30GMS OR LESS   \n",
       "\n",
       "   Location Description  Arrest  Domestic  Community Area   Latitude  \\\n",
       "0                   124       0         0            11.0  41.981913   \n",
       "1                   140       1         0            42.0  41.775733   \n",
       "2                   111       0         0            69.0  41.769897   \n",
       "3                   124       0         0            17.0  41.942984   \n",
       "4                    16       1         0            65.0  41.784211   \n",
       "\n",
       "   Longitude  Month  Day  Hour  \n",
       "0 -87.771996      4    2    13  \n",
       "1 -87.611920      2   26    13  \n",
       "2 -87.593671      1    8    23  \n",
       "3 -87.780057      4    5    18  \n",
       "4 -87.716745      2   17    21  "
      ]
     },
     "execution_count": 56,
     "metadata": {},
     "output_type": "execute_result"
    }
   ],
   "source": [
    "crimes.head()"
   ]
  },
  {
   "cell_type": "code",
   "execution_count": 66,
   "metadata": {
    "collapsed": true
   },
   "outputs": [],
   "source": [
    "X = crimes.filter(['Month', 'Day', 'Hour', 'Location Description', 'Community Area', 'Arrest', 'Domestic']).fillna(0)"
   ]
  },
  {
   "cell_type": "code",
   "execution_count": 72,
   "metadata": {},
   "outputs": [
    {
     "data": {
      "text/html": [
       "<div>\n",
       "<style>\n",
       "    .dataframe thead tr:only-child th {\n",
       "        text-align: right;\n",
       "    }\n",
       "\n",
       "    .dataframe thead th {\n",
       "        text-align: left;\n",
       "    }\n",
       "\n",
       "    .dataframe tbody tr th {\n",
       "        vertical-align: top;\n",
       "    }\n",
       "</style>\n",
       "<table border=\"1\" class=\"dataframe\">\n",
       "  <thead>\n",
       "    <tr style=\"text-align: right;\">\n",
       "      <th></th>\n",
       "      <th>Month</th>\n",
       "      <th>Day</th>\n",
       "      <th>Hour</th>\n",
       "      <th>Location Description</th>\n",
       "      <th>Community Area</th>\n",
       "      <th>Arrest</th>\n",
       "      <th>Domestic</th>\n",
       "    </tr>\n",
       "  </thead>\n",
       "  <tbody>\n",
       "    <tr>\n",
       "      <th>0</th>\n",
       "      <td>4</td>\n",
       "      <td>2</td>\n",
       "      <td>13</td>\n",
       "      <td>124</td>\n",
       "      <td>11.0</td>\n",
       "      <td>0</td>\n",
       "      <td>0</td>\n",
       "    </tr>\n",
       "    <tr>\n",
       "      <th>1</th>\n",
       "      <td>2</td>\n",
       "      <td>26</td>\n",
       "      <td>13</td>\n",
       "      <td>140</td>\n",
       "      <td>42.0</td>\n",
       "      <td>1</td>\n",
       "      <td>0</td>\n",
       "    </tr>\n",
       "    <tr>\n",
       "      <th>2</th>\n",
       "      <td>1</td>\n",
       "      <td>8</td>\n",
       "      <td>23</td>\n",
       "      <td>111</td>\n",
       "      <td>69.0</td>\n",
       "      <td>0</td>\n",
       "      <td>0</td>\n",
       "    </tr>\n",
       "    <tr>\n",
       "      <th>3</th>\n",
       "      <td>4</td>\n",
       "      <td>5</td>\n",
       "      <td>18</td>\n",
       "      <td>124</td>\n",
       "      <td>17.0</td>\n",
       "      <td>0</td>\n",
       "      <td>0</td>\n",
       "    </tr>\n",
       "    <tr>\n",
       "      <th>4</th>\n",
       "      <td>2</td>\n",
       "      <td>17</td>\n",
       "      <td>21</td>\n",
       "      <td>16</td>\n",
       "      <td>65.0</td>\n",
       "      <td>1</td>\n",
       "      <td>0</td>\n",
       "    </tr>\n",
       "  </tbody>\n",
       "</table>\n",
       "</div>"
      ],
      "text/plain": [
       "   Month  Day  Hour  Location Description  Community Area  Arrest  Domestic\n",
       "0      4    2    13                   124            11.0       0         0\n",
       "1      2   26    13                   140            42.0       1         0\n",
       "2      1    8    23                   111            69.0       0         0\n",
       "3      4    5    18                   124            17.0       0         0\n",
       "4      2   17    21                    16            65.0       1         0"
      ]
     },
     "execution_count": 72,
     "metadata": {},
     "output_type": "execute_result"
    }
   ],
   "source": [
    "X.head()"
   ]
  },
  {
   "cell_type": "code",
   "execution_count": null,
   "metadata": {
    "collapsed": true
   },
   "outputs": [],
   "source": [
    "#num_clusters = len(crimes['Primary Type'].unique())\n",
    "#kmeans = KMeans(n_clusters=num_clusters).fit(X.values, crimes['Primary Type'].values)"
   ]
  }
 ],
 "metadata": {
  "kernelspec": {
   "display_name": "Python 3",
   "language": "python",
   "name": "python3"
  },
  "language_info": {
   "codemirror_mode": {
    "name": "ipython",
    "version": 3
   },
   "file_extension": ".py",
   "mimetype": "text/x-python",
   "name": "python",
   "nbconvert_exporter": "python",
   "pygments_lexer": "ipython3",
   "version": "3.6.1"
  }
 },
 "nbformat": 4,
 "nbformat_minor": 2
}
