{
 "cells": [
  {
   "cell_type": "markdown",
   "metadata": {},
   "source": [
    "# STA141C Final Project: Crime in Chicago\n",
    "### A clustering analysis and visualization for crime in Chicago from 2005-2017\n",
    "By: Joe Akanesuvan, Navid Al Nadvi, Sailesh Patnala"
   ]
  },
  {
   "cell_type": "code",
   "execution_count": 1,
   "metadata": {
    "collapsed": true
   },
   "outputs": [],
   "source": [
    "import numpy as np\n",
    "import pandas as pd\n",
    "import matplotlib.pyplot as plt\n",
    "import seaborn as sns\n",
    "\n",
    "%matplotlib inline"
   ]
  },
  {
   "cell_type": "code",
   "execution_count": 45,
   "metadata": {
    "collapsed": false
   },
   "outputs": [
    {
     "name": "stderr",
     "output_type": "stream",
     "text": [
      "b'Skipping line 533719: expected 23 fields, saw 24\\n'\n",
      "b'Skipping line 1149094: expected 23 fields, saw 41\\n'\n"
     ]
    }
   ],
   "source": [
    "crimes1 = pd.read_csv('Chicago_Crimes_2005_to_2007.csv',error_bad_lines=False)\n",
    "crimes2 = pd.read_csv('Chicago_Crimes_2008_to_2011.csv',error_bad_lines=False)\n",
    "crimes3 = pd.read_csv('Chicago_Crimes_2012_to_2017.csv',error_bad_lines=False)\n",
    "crimes = pd.concat([crimes1, crimes2, crimes3], ignore_index=False, axis=0)\n",
    "\n",
    "crimes.drop_duplicates(subset=['ID', 'Case Number'], inplace=True)"
   ]
  },
  {
   "cell_type": "markdown",
   "metadata": {},
   "source": [
    "## Understanding the Dataset"
   ]
  },
  {
   "cell_type": "code",
   "execution_count": 46,
   "metadata": {
    "collapsed": false
   },
   "outputs": [
    {
     "data": {
      "text/html": [
       "<div>\n",
       "<table border=\"1\" class=\"dataframe\">\n",
       "  <thead>\n",
       "    <tr style=\"text-align: right;\">\n",
       "      <th></th>\n",
       "      <th>Unnamed: 0</th>\n",
       "      <th>ID</th>\n",
       "      <th>Case Number</th>\n",
       "      <th>Date</th>\n",
       "      <th>Block</th>\n",
       "      <th>IUCR</th>\n",
       "      <th>Primary Type</th>\n",
       "      <th>Description</th>\n",
       "      <th>Location Description</th>\n",
       "      <th>Arrest</th>\n",
       "      <th>...</th>\n",
       "      <th>Ward</th>\n",
       "      <th>Community Area</th>\n",
       "      <th>FBI Code</th>\n",
       "      <th>X Coordinate</th>\n",
       "      <th>Y Coordinate</th>\n",
       "      <th>Year</th>\n",
       "      <th>Updated On</th>\n",
       "      <th>Latitude</th>\n",
       "      <th>Longitude</th>\n",
       "      <th>Location</th>\n",
       "    </tr>\n",
       "  </thead>\n",
       "  <tbody>\n",
       "    <tr>\n",
       "      <th>0</th>\n",
       "      <td>0</td>\n",
       "      <td>4673626</td>\n",
       "      <td>HM274058</td>\n",
       "      <td>04/02/2006 01:00:00 PM</td>\n",
       "      <td>055XX N MANGO AVE</td>\n",
       "      <td>2825</td>\n",
       "      <td>OTHER OFFENSE</td>\n",
       "      <td>HARASSMENT BY TELEPHONE</td>\n",
       "      <td>RESIDENCE</td>\n",
       "      <td>False</td>\n",
       "      <td>...</td>\n",
       "      <td>45.0</td>\n",
       "      <td>11.0</td>\n",
       "      <td>26</td>\n",
       "      <td>1136872.0</td>\n",
       "      <td>1936499.0</td>\n",
       "      <td>2006</td>\n",
       "      <td>04/15/2016 08:55:02 AM</td>\n",
       "      <td>41.981913</td>\n",
       "      <td>-87.771996</td>\n",
       "      <td>(41.981912692, -87.771996382)</td>\n",
       "    </tr>\n",
       "    <tr>\n",
       "      <th>1</th>\n",
       "      <td>1</td>\n",
       "      <td>4673627</td>\n",
       "      <td>HM202199</td>\n",
       "      <td>02/26/2006 01:40:48 PM</td>\n",
       "      <td>065XX S RHODES AVE</td>\n",
       "      <td>2017</td>\n",
       "      <td>NARCOTICS</td>\n",
       "      <td>MANU/DELIVER:CRACK</td>\n",
       "      <td>SIDEWALK</td>\n",
       "      <td>True</td>\n",
       "      <td>...</td>\n",
       "      <td>20.0</td>\n",
       "      <td>42.0</td>\n",
       "      <td>18</td>\n",
       "      <td>1181027.0</td>\n",
       "      <td>1861693.0</td>\n",
       "      <td>2006</td>\n",
       "      <td>04/15/2016 08:55:02 AM</td>\n",
       "      <td>41.775733</td>\n",
       "      <td>-87.611920</td>\n",
       "      <td>(41.775732538, -87.611919814)</td>\n",
       "    </tr>\n",
       "    <tr>\n",
       "      <th>2</th>\n",
       "      <td>2</td>\n",
       "      <td>4673628</td>\n",
       "      <td>HM113861</td>\n",
       "      <td>01/08/2006 11:16:00 PM</td>\n",
       "      <td>013XX E 69TH ST</td>\n",
       "      <td>051A</td>\n",
       "      <td>ASSAULT</td>\n",
       "      <td>AGGRAVATED: HANDGUN</td>\n",
       "      <td>OTHER</td>\n",
       "      <td>False</td>\n",
       "      <td>...</td>\n",
       "      <td>5.0</td>\n",
       "      <td>69.0</td>\n",
       "      <td>04A</td>\n",
       "      <td>1186023.0</td>\n",
       "      <td>1859609.0</td>\n",
       "      <td>2006</td>\n",
       "      <td>04/15/2016 08:55:02 AM</td>\n",
       "      <td>41.769897</td>\n",
       "      <td>-87.593671</td>\n",
       "      <td>(41.769897392, -87.593670899)</td>\n",
       "    </tr>\n",
       "    <tr>\n",
       "      <th>3</th>\n",
       "      <td>4</td>\n",
       "      <td>4673629</td>\n",
       "      <td>HM274049</td>\n",
       "      <td>04/05/2006 06:45:00 PM</td>\n",
       "      <td>061XX W NEWPORT AVE</td>\n",
       "      <td>0460</td>\n",
       "      <td>BATTERY</td>\n",
       "      <td>SIMPLE</td>\n",
       "      <td>RESIDENCE</td>\n",
       "      <td>False</td>\n",
       "      <td>...</td>\n",
       "      <td>38.0</td>\n",
       "      <td>17.0</td>\n",
       "      <td>08B</td>\n",
       "      <td>1134772.0</td>\n",
       "      <td>1922299.0</td>\n",
       "      <td>2006</td>\n",
       "      <td>04/15/2016 08:55:02 AM</td>\n",
       "      <td>41.942984</td>\n",
       "      <td>-87.780057</td>\n",
       "      <td>(41.942984005, -87.780056951)</td>\n",
       "    </tr>\n",
       "    <tr>\n",
       "      <th>4</th>\n",
       "      <td>5</td>\n",
       "      <td>4673630</td>\n",
       "      <td>HM187120</td>\n",
       "      <td>02/17/2006 09:03:14 PM</td>\n",
       "      <td>037XX W 60TH ST</td>\n",
       "      <td>1811</td>\n",
       "      <td>NARCOTICS</td>\n",
       "      <td>POSS: CANNABIS 30GMS OR LESS</td>\n",
       "      <td>ALLEY</td>\n",
       "      <td>True</td>\n",
       "      <td>...</td>\n",
       "      <td>13.0</td>\n",
       "      <td>65.0</td>\n",
       "      <td>18</td>\n",
       "      <td>1152412.0</td>\n",
       "      <td>1864560.0</td>\n",
       "      <td>2006</td>\n",
       "      <td>04/15/2016 08:55:02 AM</td>\n",
       "      <td>41.784211</td>\n",
       "      <td>-87.716745</td>\n",
       "      <td>(41.784210853, -87.71674491)</td>\n",
       "    </tr>\n",
       "  </tbody>\n",
       "</table>\n",
       "<p>5 rows × 23 columns</p>\n",
       "</div>"
      ],
      "text/plain": [
       "   Unnamed: 0       ID Case Number                    Date  \\\n",
       "0           0  4673626    HM274058  04/02/2006 01:00:00 PM   \n",
       "1           1  4673627    HM202199  02/26/2006 01:40:48 PM   \n",
       "2           2  4673628    HM113861  01/08/2006 11:16:00 PM   \n",
       "3           4  4673629    HM274049  04/05/2006 06:45:00 PM   \n",
       "4           5  4673630    HM187120  02/17/2006 09:03:14 PM   \n",
       "\n",
       "                 Block  IUCR   Primary Type                   Description  \\\n",
       "0    055XX N MANGO AVE  2825  OTHER OFFENSE       HARASSMENT BY TELEPHONE   \n",
       "1   065XX S RHODES AVE  2017      NARCOTICS            MANU/DELIVER:CRACK   \n",
       "2      013XX E 69TH ST  051A        ASSAULT           AGGRAVATED: HANDGUN   \n",
       "3  061XX W NEWPORT AVE  0460        BATTERY                        SIMPLE   \n",
       "4      037XX W 60TH ST  1811      NARCOTICS  POSS: CANNABIS 30GMS OR LESS   \n",
       "\n",
       "  Location Description Arrest              ...                Ward  \\\n",
       "0            RESIDENCE  False              ...                45.0   \n",
       "1             SIDEWALK   True              ...                20.0   \n",
       "2                OTHER  False              ...                 5.0   \n",
       "3            RESIDENCE  False              ...                38.0   \n",
       "4                ALLEY   True              ...                13.0   \n",
       "\n",
       "   Community Area  FBI Code  X Coordinate  Y Coordinate  Year  \\\n",
       "0            11.0        26     1136872.0     1936499.0  2006   \n",
       "1            42.0        18     1181027.0     1861693.0  2006   \n",
       "2            69.0       04A     1186023.0     1859609.0  2006   \n",
       "3            17.0       08B     1134772.0     1922299.0  2006   \n",
       "4            65.0        18     1152412.0     1864560.0  2006   \n",
       "\n",
       "               Updated On   Latitude  Longitude                       Location  \n",
       "0  04/15/2016 08:55:02 AM  41.981913 -87.771996  (41.981912692, -87.771996382)  \n",
       "1  04/15/2016 08:55:02 AM  41.775733 -87.611920  (41.775732538, -87.611919814)  \n",
       "2  04/15/2016 08:55:02 AM  41.769897 -87.593671  (41.769897392, -87.593670899)  \n",
       "3  04/15/2016 08:55:02 AM  41.942984 -87.780057  (41.942984005, -87.780056951)  \n",
       "4  04/15/2016 08:55:02 AM  41.784211 -87.716745   (41.784210853, -87.71674491)  \n",
       "\n",
       "[5 rows x 23 columns]"
      ]
     },
     "execution_count": 46,
     "metadata": {},
     "output_type": "execute_result"
    }
   ],
   "source": [
    "crimes.head()"
   ]
  },
  {
   "cell_type": "code",
   "execution_count": 47,
   "metadata": {
    "collapsed": false
   },
   "outputs": [
    {
     "name": "stdout",
     "output_type": "stream",
     "text": [
      "<class 'pandas.core.frame.DataFrame'>\n",
      "Int64Index: 4336556 entries, 0 to 1456713\n",
      "Data columns (total 23 columns):\n",
      "Unnamed: 0              int64\n",
      "ID                      int64\n",
      "Case Number             object\n",
      "Date                    object\n",
      "Block                   object\n",
      "IUCR                    object\n",
      "Primary Type            object\n",
      "Description             object\n",
      "Location Description    object\n",
      "Arrest                  bool\n",
      "Domestic                bool\n",
      "Beat                    int64\n",
      "District                float64\n",
      "Ward                    float64\n",
      "Community Area          float64\n",
      "FBI Code                object\n",
      "X Coordinate            float64\n",
      "Y Coordinate            float64\n",
      "Year                    int64\n",
      "Updated On              object\n",
      "Latitude                float64\n",
      "Longitude               float64\n",
      "Location                object\n",
      "dtypes: bool(2), float64(7), int64(4), object(10)\n",
      "memory usage: 736.1+ MB\n"
     ]
    }
   ],
   "source": [
    "crimes.info()"
   ]
  },
  {
   "cell_type": "markdown",
   "metadata": {
    "collapsed": false
   },
   "source": [
    "There are unnecessary columns which would not be able to use for any relevant visualization nor any clustering algorithm. Remove any columns which may be too specific."
   ]
  },
  {
   "cell_type": "code",
   "execution_count": 48,
   "metadata": {
    "collapsed": false
   },
   "outputs": [],
   "source": [
    "crimes.drop(['Unnamed: 0', 'Case Number', 'IUCR', 'X Coordinate', 'Y Coordinate',\n",
    "             'Updated On','FBI Code', 'Beat','Ward', 'Location', 'District', 'Block',\n",
    "             'Latitude', 'Longitude', 'Year'], inplace=True, axis=1)"
   ]
  },
  {
   "cell_type": "markdown",
   "metadata": {},
   "source": [
    "Since there is Date column, the Date format should be changed to its corresponding Pandas format"
   ]
  },
  {
   "cell_type": "code",
   "execution_count": 54,
   "metadata": {
    "collapsed": true
   },
   "outputs": [],
   "source": [
    "crimes.Date = pd.to_datetime(crimes.Date, format='%m/%d/%Y %I:%M:%S %p')\n",
    "crimes.index = pd.DatetimeIndex(crimes.Date)"
   ]
  },
  {
   "cell_type": "code",
   "execution_count": 58,
   "metadata": {
    "collapsed": false
   },
   "outputs": [
    {
     "data": {
      "text/html": [
       "<div>\n",
       "<table border=\"1\" class=\"dataframe\">\n",
       "  <thead>\n",
       "    <tr style=\"text-align: right;\">\n",
       "      <th></th>\n",
       "      <th>ID</th>\n",
       "      <th>Date</th>\n",
       "      <th>Primary Type</th>\n",
       "      <th>Description</th>\n",
       "      <th>Location Description</th>\n",
       "      <th>Arrest</th>\n",
       "      <th>Domestic</th>\n",
       "      <th>Community Area</th>\n",
       "      <th>Year</th>\n",
       "    </tr>\n",
       "    <tr>\n",
       "      <th>Date</th>\n",
       "      <th></th>\n",
       "      <th></th>\n",
       "      <th></th>\n",
       "      <th></th>\n",
       "      <th></th>\n",
       "      <th></th>\n",
       "      <th></th>\n",
       "      <th></th>\n",
       "      <th></th>\n",
       "    </tr>\n",
       "  </thead>\n",
       "  <tbody>\n",
       "    <tr>\n",
       "      <th>2006-04-02 13:00:00</th>\n",
       "      <td>4673626</td>\n",
       "      <td>2006-04-02 13:00:00</td>\n",
       "      <td>OTHER OFFENSE</td>\n",
       "      <td>HARASSMENT BY TELEPHONE</td>\n",
       "      <td>RESIDENCE</td>\n",
       "      <td>False</td>\n",
       "      <td>False</td>\n",
       "      <td>11.0</td>\n",
       "      <td>2006</td>\n",
       "    </tr>\n",
       "    <tr>\n",
       "      <th>2006-02-26 13:40:48</th>\n",
       "      <td>4673627</td>\n",
       "      <td>2006-02-26 13:40:48</td>\n",
       "      <td>NARCOTICS</td>\n",
       "      <td>MANU/DELIVER:CRACK</td>\n",
       "      <td>SIDEWALK</td>\n",
       "      <td>True</td>\n",
       "      <td>False</td>\n",
       "      <td>42.0</td>\n",
       "      <td>2006</td>\n",
       "    </tr>\n",
       "    <tr>\n",
       "      <th>2006-01-08 23:16:00</th>\n",
       "      <td>4673628</td>\n",
       "      <td>2006-01-08 23:16:00</td>\n",
       "      <td>ASSAULT</td>\n",
       "      <td>AGGRAVATED: HANDGUN</td>\n",
       "      <td>OTHER</td>\n",
       "      <td>False</td>\n",
       "      <td>False</td>\n",
       "      <td>69.0</td>\n",
       "      <td>2006</td>\n",
       "    </tr>\n",
       "    <tr>\n",
       "      <th>2006-04-05 18:45:00</th>\n",
       "      <td>4673629</td>\n",
       "      <td>2006-04-05 18:45:00</td>\n",
       "      <td>BATTERY</td>\n",
       "      <td>SIMPLE</td>\n",
       "      <td>RESIDENCE</td>\n",
       "      <td>False</td>\n",
       "      <td>False</td>\n",
       "      <td>17.0</td>\n",
       "      <td>2006</td>\n",
       "    </tr>\n",
       "    <tr>\n",
       "      <th>2006-02-17 21:03:14</th>\n",
       "      <td>4673630</td>\n",
       "      <td>2006-02-17 21:03:14</td>\n",
       "      <td>NARCOTICS</td>\n",
       "      <td>POSS: CANNABIS 30GMS OR LESS</td>\n",
       "      <td>ALLEY</td>\n",
       "      <td>True</td>\n",
       "      <td>False</td>\n",
       "      <td>65.0</td>\n",
       "      <td>2006</td>\n",
       "    </tr>\n",
       "  </tbody>\n",
       "</table>\n",
       "</div>"
      ],
      "text/plain": [
       "                          ID                Date   Primary Type  \\\n",
       "Date                                                              \n",
       "2006-04-02 13:00:00  4673626 2006-04-02 13:00:00  OTHER OFFENSE   \n",
       "2006-02-26 13:40:48  4673627 2006-02-26 13:40:48      NARCOTICS   \n",
       "2006-01-08 23:16:00  4673628 2006-01-08 23:16:00        ASSAULT   \n",
       "2006-04-05 18:45:00  4673629 2006-04-05 18:45:00        BATTERY   \n",
       "2006-02-17 21:03:14  4673630 2006-02-17 21:03:14      NARCOTICS   \n",
       "\n",
       "                                      Description Location Description Arrest  \\\n",
       "Date                                                                            \n",
       "2006-04-02 13:00:00       HARASSMENT BY TELEPHONE            RESIDENCE  False   \n",
       "2006-02-26 13:40:48            MANU/DELIVER:CRACK             SIDEWALK   True   \n",
       "2006-01-08 23:16:00           AGGRAVATED: HANDGUN                OTHER  False   \n",
       "2006-04-05 18:45:00                        SIMPLE            RESIDENCE  False   \n",
       "2006-02-17 21:03:14  POSS: CANNABIS 30GMS OR LESS                ALLEY   True   \n",
       "\n",
       "                    Domestic  Community Area  Year  \n",
       "Date                                                \n",
       "2006-04-02 13:00:00    False            11.0  2006  \n",
       "2006-02-26 13:40:48    False            42.0  2006  \n",
       "2006-01-08 23:16:00    False            69.0  2006  \n",
       "2006-04-05 18:45:00    False            17.0  2006  \n",
       "2006-02-17 21:03:14    False            65.0  2006  "
      ]
     },
     "execution_count": 58,
     "metadata": {},
     "output_type": "execute_result"
    }
   ],
   "source": [
    "crimes.head()"
   ]
  },
  {
   "cell_type": "markdown",
   "metadata": {},
   "source": [
    "## Visualizing the Data"
   ]
  },
  {
   "cell_type": "code",
   "execution_count": 26,
   "metadata": {
    "collapsed": false
   },
   "outputs": [],
   "source": [
    "crime_years = pd.DataFrame(crimes.groupby([crimes.index.year]).size().reset_index(name=\"count\"))\n"
   ]
  },
  {
   "cell_type": "code",
   "execution_count": 31,
   "metadata": {
    "collapsed": false
   },
   "outputs": [
    {
     "data": {
      "text/html": [
       "<div>\n",
       "<table border=\"1\" class=\"dataframe\">\n",
       "  <thead>\n",
       "    <tr style=\"text-align: right;\">\n",
       "      <th></th>\n",
       "      <th>Year</th>\n",
       "      <th>count</th>\n",
       "    </tr>\n",
       "  </thead>\n",
       "  <tbody>\n",
       "    <tr>\n",
       "      <th>0</th>\n",
       "      <td>2005</td>\n",
       "      <td>455811</td>\n",
       "    </tr>\n",
       "    <tr>\n",
       "      <th>1</th>\n",
       "      <td>2006</td>\n",
       "      <td>794684</td>\n",
       "    </tr>\n",
       "    <tr>\n",
       "      <th>2</th>\n",
       "      <td>2007</td>\n",
       "      <td>621848</td>\n",
       "    </tr>\n",
       "    <tr>\n",
       "      <th>3</th>\n",
       "      <td>2008</td>\n",
       "      <td>852053</td>\n",
       "    </tr>\n",
       "    <tr>\n",
       "      <th>4</th>\n",
       "      <td>2009</td>\n",
       "      <td>783900</td>\n",
       "    </tr>\n",
       "    <tr>\n",
       "      <th>5</th>\n",
       "      <td>2010</td>\n",
       "      <td>700691</td>\n",
       "    </tr>\n",
       "    <tr>\n",
       "      <th>6</th>\n",
       "      <td>2011</td>\n",
       "      <td>352066</td>\n",
       "    </tr>\n",
       "    <tr>\n",
       "      <th>7</th>\n",
       "      <td>2012</td>\n",
       "      <td>335670</td>\n",
       "    </tr>\n",
       "    <tr>\n",
       "      <th>8</th>\n",
       "      <td>2013</td>\n",
       "      <td>306703</td>\n",
       "    </tr>\n",
       "    <tr>\n",
       "      <th>9</th>\n",
       "      <td>2014</td>\n",
       "      <td>274527</td>\n",
       "    </tr>\n",
       "    <tr>\n",
       "      <th>10</th>\n",
       "      <td>2015</td>\n",
       "      <td>262995</td>\n",
       "    </tr>\n",
       "    <tr>\n",
       "      <th>11</th>\n",
       "      <td>2016</td>\n",
       "      <td>265462</td>\n",
       "    </tr>\n",
       "    <tr>\n",
       "      <th>12</th>\n",
       "      <td>2017</td>\n",
       "      <td>11357</td>\n",
       "    </tr>\n",
       "  </tbody>\n",
       "</table>\n",
       "</div>"
      ],
      "text/plain": [
       "    Year   count\n",
       "0   2005  455811\n",
       "1   2006  794684\n",
       "2   2007  621848\n",
       "3   2008  852053\n",
       "4   2009  783900\n",
       "5   2010  700691\n",
       "6   2011  352066\n",
       "7   2012  335670\n",
       "8   2013  306703\n",
       "9   2014  274527\n",
       "10  2015  262995\n",
       "11  2016  265462\n",
       "12  2017   11357"
      ]
     },
     "execution_count": 31,
     "metadata": {},
     "output_type": "execute_result"
    }
   ],
   "source": [
    "crime_years"
   ]
  },
  {
   "cell_type": "code",
   "execution_count": 30,
   "metadata": {
    "collapsed": false
   },
   "outputs": [
    {
     "data": {
      "text/plain": [
       "<seaborn.axisgrid.FacetGrid at 0x254a45ce1d0>"
      ]
     },
     "execution_count": 30,
     "metadata": {},
     "output_type": "execute_result"
    },
    {
     "data": {
      "image/png": "[encoded data removed]",
      "text/plain": [
       "<matplotlib.figure.Figure at 0x254a45ceb38>"
      ]
     },
     "metadata": {},
     "output_type": "display_data"
    }
   ],
   "source": [
    "sns.lmplot(x='Year', y='count', data=crime_years)"
   ]
  },
  {
   "cell_type": "code",
   "execution_count": null,
   "metadata": {
    "collapsed": true
   },
   "outputs": [],
   "source": []
  }
 ],
 "metadata": {
  "kernelspec": {
   "display_name": "Python 3",
   "language": "python",
   "name": "python3"
  },
  "language_info": {
   "codemirror_mode": {
    "name": "ipython",
    "version": 3
   },
   "file_extension": ".py",
   "mimetype": "text/x-python",
   "name": "python",
   "nbconvert_exporter": "python",
   "pygments_lexer": "ipython3",
   "version": "3.6.0"
  }
 },
 "nbformat": 4,
 "nbformat_minor": 2
}
